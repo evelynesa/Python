{
 "cells": [
  {
   "cell_type": "code",
   "execution_count": null,
   "metadata": {},
   "outputs": [],
   "source": [
    "#Trabalho Calculadora Aula 001"
   ]
  },
  {
   "cell_type": "code",
   "execution_count": 17,
   "metadata": {},
   "outputs": [],
   "source": [
    "#Definindo a Função da Calculadora\n",
    "\n",
    "def calculadora(valor1, valor2, operacao):\n",
    "    if((type(valor1)is str) or (type(valor2) is str)):\n",
    "        print('Impossível calcular textos... Insira valores corretos e tente novamente')\n",
    "    else:\n",
    "        if (operacao=='+'):\n",
    "            print(valor1 + valor2)\n",
    "        elif (operacao =='-'):\n",
    "            print(valor1-valor2)\n",
    "        elif(operacao=='*'):\n",
    "            print(valor1*valor2)\n",
    "        elif(operacao=='/'):\n",
    "            if(valor1==0 or valor2==0):\n",
    "                print(0)\n",
    "            else:\n",
    "                print(valor1/valor2)\n",
    "        elif(operacao=='**'):\n",
    "            print(valor1**valor2)\n",
    "        else:\n",
    "            print('Operação ou Valores Inválidos')\n",
    "    "
   ]
  },
  {
   "cell_type": "code",
   "execution_count": 24,
   "metadata": {},
   "outputs": [
    {
     "name": "stdout",
     "output_type": "stream",
     "text": [
      "4\n"
     ]
    }
   ],
   "source": [
    "#Consumindo a Calculadora\n",
    "calculadora(2,2,'**')"
   ]
  },
  {
   "cell_type": "code",
   "execution_count": null,
   "metadata": {},
   "outputs": [],
   "source": []
  }
 ],
 "metadata": {
  "kernelspec": {
   "display_name": "Python 3",
   "language": "python",
   "name": "python3"
  },
  "language_info": {
   "codemirror_mode": {
    "name": "ipython",
    "version": 3
   },
   "file_extension": ".py",
   "mimetype": "text/x-python",
   "name": "python",
   "nbconvert_exporter": "python",
   "pygments_lexer": "ipython3",
   "version": "3.8.5"
  }
 },
 "nbformat": 4,
 "nbformat_minor": 4
}
