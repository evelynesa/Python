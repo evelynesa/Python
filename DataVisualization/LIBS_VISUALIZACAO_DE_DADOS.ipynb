{
  "nbformat": 4,
  "nbformat_minor": 0,
  "metadata": {
    "colab": {
      "name": "LIBS_VISUALIZACAO_DE_DADOS",
      "provenance": [],
      "collapsed_sections": [],
      "toc_visible": true
    },
    "kernelspec": {
      "display_name": "Python 3",
      "name": "python3"
    }
  },
  "cells": [
    {
      "cell_type": "markdown",
      "metadata": {
        "id": "WALI8x49GUpe"
      },
      "source": [
        "#EXEMPLOS DE GRÁFICOS COM AS DIFERENTES LIBS"
      ]
    },
    {
      "cell_type": "markdown",
      "metadata": {
        "id": "xNzEBRkzL3B0"
      },
      "source": [
        "### MATPLOTLIB"
      ]
    },
    {
      "cell_type": "code",
      "metadata": {
        "id": "08RTGn_xE3MP"
      },
      "source": [
        "#imports\n",
        "import matplotlib.pyplot as plt\n",
        "#definir os dados\n",
        "x  = [1, 2, 3, 4, 5, 6, 7, 8, 9]\n",
        "y1 = [1, 3, 5, 3, 1, 3, 5, 3, 1]\n",
        "y2 = [2, 4, 6, 4, 2, 4, 6, 4, 2]\n",
        "#graficar y1\n",
        "plt.plot(x, y1, label=\"y1\", color='blue')\n",
        "#graficar y2\n",
        "plt.plot(x, y2, label=\"y2\",color='red')\n",
        "#propriedades\n",
        "plt.xlabel(\"Eixo x\")\n",
        "plt.ylabel(\"Eixo y\")\n",
        "plt.title(\"MATPLOTLIB\")\n",
        "plt.legend()\n",
        "# plt.show()"
      ],
      "execution_count": null,
      "outputs": []
    },
    {
      "cell_type": "markdown",
      "metadata": {
        "id": "XxiBUbDDJNz3"
      },
      "source": [
        "###SEABORN"
      ]
    },
    {
      "cell_type": "code",
      "metadata": {
        "id": "iB_o2yDnHpxf"
      },
      "source": [
        "#imports\n",
        "import matplotlib.pyplot as plt\n",
        "import numpy as np\n",
        "import seaborn as sns\n",
        "#definir os dados\n",
        "x  = [1, 2, 3, 4, 5, 6, 7, 8, 9]\n",
        "y1 = [1, 3, 5, 3, 1, 3, 5, 3, 1]\n",
        "y2 = [2, 4, 6, 4, 2, 4, 6, 4, 2]\n",
        "#graficar y1\n",
        "ax=sns.lineplot (x=x,y=y1, label=\"y1\", color='blue')\n",
        "#graficar y2\n",
        "ax=sns.lineplot (x=x,y=y2,label=\"y2\",color='red')\n",
        "#propriedades\n",
        "ax.set(xlabel='Eixo x', ylabel='Eixo y',title='SEABORN')\n",
        "# plt.show()"
      ],
      "execution_count": null,
      "outputs": []
    },
    {
      "cell_type": "markdown",
      "metadata": {
        "id": "sqpF8weiJzsN"
      },
      "source": [
        "###ALTAIR"
      ]
    },
    {
      "cell_type": "code",
      "metadata": {
        "id": "QR2zRAvTKArK"
      },
      "source": [
        "#imports\n",
        "import altair as alt\n",
        "import numpy as np\n",
        "import pandas as pd\n",
        "#definir os dados\n",
        "x  = [1, 2, 3, 4, 5, 6, 7, 8, 9]\n",
        "y1 = [1, 3, 5, 3, 1, 3, 5, 3, 1]\n",
        "y2 = [2, 4, 6, 4, 2, 4, 6, 4, 2]\n",
        "\n",
        "#Criar df\n",
        "source = pd.DataFrame({ 'x': x,'y1': y1, 'y2': y2 })\n",
        "# #Linha 1\n",
        "# line1=alt.Chart(source).mark_line(color='blue').encode(x='x',y='y1')\n",
        "# #Linha 2\n",
        "# line2=alt.Chart(source).mark_line(color='red' ).encode(x='x',y='y2')\n",
        "# line1 +line2\n",
        "\n",
        "#criar uma base\n",
        "base = alt.Chart(source).encode(x='x')\n",
        "#criar uma camada com 2 linhas\n",
        "alt.layer(\n",
        "    base.mark_line(color='blue').encode(y='y1'),\n",
        "    base.mark_line(color='red').encode(y='y2')\n",
        ").interactive()\n",
        "\n",
        "\n",
        "\n"
      ],
      "execution_count": null,
      "outputs": []
    },
    {
      "cell_type": "markdown",
      "metadata": {
        "id": "Pmb6J0bkLS9e"
      },
      "source": [
        "##PLOTLY"
      ]
    },
    {
      "cell_type": "code",
      "metadata": {
        "id": "Mxl6UlpTLWHf"
      },
      "source": [
        "# imports\n",
        "import plotly.express as px\n",
        "import plotly.graph_objs as go\n",
        "import pandas as pd \n",
        "import numpy as np\n",
        "\n",
        "#definir os dados\n",
        "x  = [1, 2, 3, 4, 5, 6, 7, 8, 9]\n",
        "y1 = [1, 3, 5, 3, 1, 3, 5, 3, 1]\n",
        "y2 = [2, 4, 6, 4, 2, 4, 6, 4, 2]\n",
        "\n",
        "#criar um dataframe\n",
        "df = pd.DataFrame({'x': x,'y1': y1,'y2': y2})\n",
        "\n",
        "#criar uma figura\n",
        "fig = go.Figure()\n",
        "#criar a primeira linha\n",
        "fig.add_trace(go.Scatter(x=df['x'], y=df['y1'].values,\n",
        "                             name = \"y1\",\n",
        "                             mode = 'markers+lines',\n",
        "                             line=dict(shape='linear'),\n",
        "                             connectgaps=True))\n",
        "# criar a segunda linha\n",
        "fig.add_trace(go.Scatter(x=df['x'], y=df['y2'].values,\n",
        "                             name = \"y2\",\n",
        "                             mode = 'markers+lines',\n",
        "                             line=dict(shape='linear'),\n",
        "                             connectgaps=True) )\n",
        "#criar o título e rótulos dos eixos\n",
        "fig.update_layout(\n",
        "        title={\n",
        "        'text': \"PLOTLY\",\n",
        "        'y':0.9,\n",
        "        'x':0.5,\n",
        "        'xanchor': 'center',\n",
        "        'yanchor': 'top'},\n",
        "            xaxis_title=\"X Axis Title\",\n",
        "    yaxis_title=\"Y Axis Title\")\n",
        "fig.show()\n"
      ],
      "execution_count": null,
      "outputs": []
    },
    {
      "cell_type": "markdown",
      "metadata": {
        "id": "RDSlZ71PNFY1"
      },
      "source": [
        "##BOKEH"
      ]
    },
    {
      "cell_type": "code",
      "metadata": {
        "id": "qjr5NexwNdBg"
      },
      "source": [
        "import numpy as np\n",
        "from bokeh.plotting import figure, show\n",
        "from bokeh.io import output_notebook\n",
        "\n",
        "# Mostra o gráfico dentro do Notebook.\n",
        "output_notebook()\n",
        "\n",
        "# definir os dados\n",
        "x  = [1, 2, 3, 4, 5, 6, 7, 8, 9]\n",
        "y1 = [1, 3, 5, 3, 1, 3, 5, 3, 1]\n",
        "y2 = [2, 4, 6, 4, 2, 4, 6, 4, 2]\n",
        "\n",
        "#criar una figura\n",
        "p = figure(title=\"BOKEH\", x_axis_label=\"Eixo x\", y_axis_label=\"Eixo y\")\n",
        "\n",
        "# graficar linha de y1\n",
        "p.line(x, y1, legend_label=\"Temp.\", line_width=2, line_color='blue')\n",
        "# graficar linha de y2\n",
        "p.line(x, y2, legend_label=\"Temp.\", line_width=2, line_color='red')\n",
        "\n",
        "# show the results\n",
        "show(p)"
      ],
      "execution_count": null,
      "outputs": []
    },
    {
      "cell_type": "code",
      "metadata": {
        "id": "7BAxuZvnmqlX"
      },
      "source": [
        ""
      ],
      "execution_count": null,
      "outputs": []
    }
  ]
}