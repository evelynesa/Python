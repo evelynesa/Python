{
  "nbformat": 4,
  "nbformat_minor": 0,
  "metadata": {
    "colab": {
      "name": "aula_3.ipynb",
      "provenance": []
    },
    "kernelspec": {
      "name": "python3",
      "display_name": "Python 3"
    },
    "language_info": {
      "name": "python"
    }
  },
  "cells": [
    {
      "cell_type": "code",
      "metadata": {
        "id": "43uWklA-Qvuw"
      },
      "source": [
        "html1 = '<html><head>Jordânia e Israel abrem passagem na fronteira<head><body>' \\\n",
        "'Israel e Jordânia abriram ontem a ' \\\n",
        "'primeira passagem de fronteira entre os ' \\\n",
        "'dois países depois de 46 anos de estado ' \\\n",
        "'formal de guerra.' \\\n",
        "'</body></html>'\n",
        "html2 = '<html><body>EUA e Japão se armam para guerra comercial</body></html>'\n",
        "\n",
        "print(html1)\n",
        "print(html2)"
      ],
      "execution_count": null,
      "outputs": []
    }
  ]
}