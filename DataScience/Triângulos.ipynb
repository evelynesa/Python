{
 "cells": [
  {
   "cell_type": "code",
   "execution_count": null,
   "metadata": {},
   "outputs": [],
   "source": [
    "#Calcular os tipos dos Triângulos"
   ]
  },
  {
   "cell_type": "code",
   "execution_count": 22,
   "metadata": {},
   "outputs": [],
   "source": [
    "#Função que valida se há textos nas medidas\n",
    "\n",
    "def validaEntrada(med1, med2, med3):\n",
    "    if((type(med1)is str)or(type(med2)is str)or(type(med3)is str)):\n",
    "        return 1"
   ]
  },
  {
   "cell_type": "code",
   "execution_count": 49,
   "metadata": {},
   "outputs": [],
   "source": [
    "#Definindo uma Função para Validação dos valores\n",
    "\n",
    "def validaTipoTriangulo (med1, med2, med3):\n",
    "    if(validaEntrada(med1,med2,med3)):\n",
    "        print('Valores Inválidos ... Insira apenas números e tente novamente')\n",
    "    else:\n",
    "        if((med1==med2)or(med1==med3)):\n",
    "             print('Triângulo Equilátero')\n",
    "        elif(med1!=med2):\n",
    "            if(med1!=med3)and(med2!=med3):\n",
    "                print('Triângulo Escaleno')\n",
    "            else:\n",
    "                print('Triângulo Isósceles')"
   ]
  },
  {
   "cell_type": "code",
   "execution_count": 50,
   "metadata": {},
   "outputs": [
    {
     "name": "stdout",
     "output_type": "stream",
     "text": [
      "Triângulo Equilátero\n"
     ]
    }
   ],
   "source": [
    "validaTipoTriangulo(2,2,3)"
   ]
  },
  {
   "cell_type": "code",
   "execution_count": null,
   "metadata": {},
   "outputs": [],
   "source": []
  }
 ],
 "metadata": {
  "kernelspec": {
   "display_name": "Python 3",
   "language": "python",
   "name": "python3"
  },
  "language_info": {
   "codemirror_mode": {
    "name": "ipython",
    "version": 3
   },
   "file_extension": ".py",
   "mimetype": "text/x-python",
   "name": "python",
   "nbconvert_exporter": "python",
   "pygments_lexer": "ipython3",
   "version": "3.8.5"
  }
 },
 "nbformat": 4,
 "nbformat_minor": 4
}
