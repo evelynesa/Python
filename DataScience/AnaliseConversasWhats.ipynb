{
  "nbformat": 4,
  "nbformat_minor": 0,
  "metadata": {
    "kernelspec": {
      "display_name": "Python 3",
      "language": "python",
      "name": "python3"
    },
    "language_info": {
      "codemirror_mode": {
        "name": "ipython",
        "version": 3
      },
      "file_extension": ".py",
      "mimetype": "text/x-python",
      "name": "python",
      "nbconvert_exporter": "python",
      "pygments_lexer": "ipython3",
      "version": "3.7.4"
    },
    "colab": {
      "name": "analise_zap.ipynb",
      "provenance": []
    }
  },
  "cells": [
    {
      "cell_type": "markdown",
      "metadata": {
        "id": "WZC8Lzf9lhn4"
      },
      "source": [
        "A ideia desse notebook, é explicar como realizar a leitura do arquivo do whats."
      ]
    },
    {
      "cell_type": "code",
      "metadata": {
        "id": "UWJWz0Sxlhn8"
      },
      "source": [
        "#enconding=utf"
      ],
      "execution_count": null,
      "outputs": []
    },
    {
      "cell_type": "code",
      "metadata": {
        "id": "nibUgnmolhn9"
      },
      "source": [
        "#bibliotca para formatar data.\n",
        "from datetime import datetime, timezone\n",
        "from collections import Counter\n",
        "import collections\n",
        "import pandas as pd"
      ],
      "execution_count": 1,
      "outputs": []
    },
    {
      "cell_type": "code",
      "metadata": {
        "id": "Gv9p00-hlhoC"
      },
      "source": [
        "ref_arquivo = open('chatWhats.txt', \"r\", encoding='utf-8')\n",
        "linha = ref_arquivo.readline()\n",
        "\n",
        "list_datas = []\n",
        "list_mensagens = []\n",
        "list_erros_formatacao = []\n",
        "list_pessoas = []\n",
        "list_horario = []\n",
        "\n",
        "while linha:\n",
        "    linha = ref_arquivo.readline()\n",
        "    list_horario.append(linha[11:16])\n",
        "    list_mensagens.append(linha[linha.rfind(\":\")+2:linha.find(\"\\n\")])\n",
        "    try:\n",
        "        #print (linha)\n",
        "        date_time_obj = datetime.strptime(linha[0:15], '%d/%m/%Y %H:%M')\n",
        "        list_datas.append(date_time_obj)\n",
        "\n",
        "        #print (linha)\n",
        "        time_obj = linha[11:16]\n",
        "        list_horario.append(time_obj)\n",
        "        #print(list_horario)\n",
        "\n",
        "        #pessoas\n",
        "        nm_pessoas = linha[linha.find(\":\")+6:linha.rfind(\":\")]\n",
        "        list_pessoas.append(nm_pessoas)\n",
        "\n",
        "        #mensagem\n",
        "        #print(txt_mensagem)\n",
        "\n",
        "    except ValueError:\n",
        "        list_erros_formatacao.append('Errors de formatação de data')\n",
        "\n",
        "#print(list_horario)\n",
        "ref_arquivo.close()"
      ],
      "execution_count": 16,
      "outputs": []
    },
    {
      "cell_type": "code",
      "metadata": {
        "colab": {
          "base_uri": "https://localhost:8080/"
        },
        "id": "kb8Wx8RXhlZh",
        "outputId": "d4fad355-0bc2-4fac-c395-a1194f807ddc"
      },
      "source": [
        "#palavras mais faladas\n",
        "frases = []\n",
        "palavras = []\n",
        "\n",
        "for frase in list_mensagens:\n",
        "  fr = frase\n",
        "  if fr!= '<Arquivo de mídia oculto>':\n",
        "    frases.append(frase)\n",
        "    for palavra in frase.split():\n",
        "      pal = palavra\n",
        "      if len(pal)>3:\n",
        "        #print (pal)\n",
        "        palavras.append(palavra)\n",
        "      #print(palavra)\n",
        "print(Counter(palavras).most_common(10))"
      ],
      "execution_count": 36,
      "outputs": [
        {
          "output_type": "stream",
          "text": [
            "[('mais', 43), ('acho', 36), ('fazer', 36), ('aula', 33), ('isso', 32), ('esse', 24), ('essa', 23), ('para', 21), ('como', 20), ('mesmo', 18)]\n"
          ],
          "name": "stdout"
        }
      ]
    },
    {
      "cell_type": "code",
      "metadata": {
        "colab": {
          "base_uri": "https://localhost:8080/"
        },
        "id": "1H1MXsY5n_Iu",
        "outputId": "b7ef34e0-f2f2-45a3-df88-ee878d8bd64f"
      },
      "source": [
        "#horario mais falado\n",
        "print(Counter(list_horario).most_common(3))"
      ],
      "execution_count": 14,
      "outputs": [
        {
          "output_type": "stream",
          "text": [
            "[('22:40', 64), ('21:54', 44), ('22:39', 44)]\n"
          ],
          "name": "stdout"
        }
      ]
    },
    {
      "cell_type": "code",
      "metadata": {
        "colab": {
          "base_uri": "https://localhost:8080/"
        },
        "id": "VC5Ygl0_YROL",
        "outputId": "82749ccc-4270-498b-dc2b-cf507c4db97d"
      },
      "source": [
        "#Dias de mais conversa\n",
        "DIAS = [\n",
        "    'Domingo'\n",
        "    'Segunda-feira',\n",
        "    'Terça-feira',\n",
        "    'Quarta-feira',\n",
        "    'Quinta-Feira',\n",
        "    'Sexta-feira',\n",
        "    'Sábado',\n",
        "\n",
        "]\n",
        "\n",
        "indice_dia_semana = []\n",
        "\n",
        "for dia_semana in list_datas:\n",
        "  if(dia_semana.weekday()==0):\n",
        "    indice_dia_semana.append('Domingo')\n",
        "    #print('Domingo')\n",
        "  elif(dia_semana.weekday()==1):\n",
        "    indice_dia_semana.append('Segunda-Feira')\n",
        "    #print('Segunda-Feira')\n",
        "  elif(dia_semana.weekday()==2):\n",
        "    indice_dia_semana.append('Terça-Feira')\n",
        "    #print('Terça-Feira')\n",
        "  elif(dia_semana.weekday()==3):\n",
        "    indice_dia_semana.append('Quarta-Feira')\n",
        "    #print('Quarta-Feira')\n",
        "  elif(dia_semana.weekday()==4):\n",
        "    indice_dia_semana.append('Quinta-Feira')\n",
        "    #print('Quinta-Feira')\n",
        "  elif(dia_semana.weekday()==5):\n",
        "    indice_dia_semana.append('Sexta-Feira')\n",
        "    #print('Sexta-Feira')\n",
        "  else:\n",
        "    indice_dia_semana.append('Sábado')\n",
        "    #print('Sábado')\n",
        "    \n",
        "print(Counter(indice_dia_semana).most_common(3))"
      ],
      "execution_count": 13,
      "outputs": [
        {
          "output_type": "stream",
          "text": [
            "[('Terça-Feira', 762), ('Quarta-Feira', 214), ('Quinta-Feira', 137)]\n"
          ],
          "name": "stdout"
        }
      ]
    }
  ]
}