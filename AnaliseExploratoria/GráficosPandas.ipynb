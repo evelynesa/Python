{
  "nbformat": 4,
  "nbformat_minor": 0,
  "metadata": {
    "colab": {
      "name": "GráficosPandas.ipynb",
      "provenance": []
    },
    "kernelspec": {
      "name": "python3",
      "display_name": "Python 3"
    },
    "language_info": {
      "name": "python"
    }
  },
  "cells": [
    {
      "cell_type": "code",
      "metadata": {
        "colab": {
          "base_uri": "https://localhost:8080/",
          "height": 428
        },
        "id": "Pcp8q5B1s-4o",
        "outputId": "38eb508b-443b-4435-96c3-38637b3d6f60"
      },
      "source": [
        "import pandas as pd\n",
        "# trocar pelo caminho do seu drive\n",
        "caminho = '/content/DNAC2018.csv'\n",
        "\n",
        "sinasc = pd.read_csv(caminho, dtype=str)\n",
        "\n",
        "#transformacao dos dados\n",
        "sinasc.PESO = pd.to_numeric(sinasc.PESO)\n",
        "sinasc.IDADEMAE = pd.to_numeric(sinasc.IDADEMAE).astype(pd.Int64Dtype())\n",
        "sinasc.IDADEPAI = pd.to_numeric(sinasc.IDADEPAI).astype(pd.Int64Dtype())\n",
        "sinasc.QTDFILVIVO = pd.to_numeric(sinasc.QTDFILVIVO).astype(pd.Int64Dtype())\n",
        "sinasc.QTDFILMORT = pd.to_numeric(sinasc.QTDFILMORT).astype(pd.Int64Dtype())\n",
        "sinasc.APGAR1 = pd.to_numeric(sinasc.APGAR1).astype(pd.Int64Dtype())\n",
        "sinasc.APGAR5 = pd.to_numeric(sinasc.APGAR5).astype(pd.Int64Dtype())\n",
        "sinasc.SEMAGESTAC = pd.to_numeric(sinasc.SEMAGESTAC).astype(pd.Int64Dtype())\n",
        "sinasc.CONSPRENAT = pd.to_numeric(sinasc.CONSPRENAT).astype(pd.Int64Dtype())\n",
        "sinasc.SERIESCMAE = pd.to_numeric(sinasc.SERIESCMAE).astype(pd.Int64Dtype())\n",
        "sinasc.QTDPARTCES = pd.to_numeric(sinasc.QTDPARTCES).astype(pd.Int64Dtype())\n",
        "sinasc.QTDPARTNOR = pd.to_numeric(sinasc.QTDPARTNOR).astype(pd.Int64Dtype())\n",
        "sinasc.QTDGESTANT = pd.to_numeric(sinasc.QTDGESTANT).astype(pd.Int64Dtype())\n",
        "\n",
        "sinasc"
      ],
      "execution_count": 4,
      "outputs": [
        {
          "output_type": "execute_result",
          "data": {
            "text/html": [
              "<div>\n",
              "<style scoped>\n",
              "    .dataframe tbody tr th:only-of-type {\n",
              "        vertical-align: middle;\n",
              "    }\n",
              "\n",
              "    .dataframe tbody tr th {\n",
              "        vertical-align: top;\n",
              "    }\n",
              "\n",
              "    .dataframe thead th {\n",
              "        text-align: right;\n",
              "    }\n",
              "</style>\n",
              "<table border=\"1\" class=\"dataframe\">\n",
              "  <thead>\n",
              "    <tr style=\"text-align: right;\">\n",
              "      <th></th>\n",
              "      <th>ORIGEM</th>\n",
              "      <th>CODESTAB</th>\n",
              "      <th>CODMUNNASC</th>\n",
              "      <th>LOCNASC</th>\n",
              "      <th>IDADEMAE</th>\n",
              "      <th>ESTCIVMAE</th>\n",
              "      <th>ESCMAE</th>\n",
              "      <th>CODOCUPMAE</th>\n",
              "      <th>QTDFILVIVO</th>\n",
              "      <th>QTDFILMORT</th>\n",
              "      <th>CODMUNRES</th>\n",
              "      <th>GESTACAO</th>\n",
              "      <th>GRAVIDEZ</th>\n",
              "      <th>PARTO</th>\n",
              "      <th>CONSULTAS</th>\n",
              "      <th>DTNASC</th>\n",
              "      <th>HORANASC</th>\n",
              "      <th>SEXO</th>\n",
              "      <th>APGAR1</th>\n",
              "      <th>APGAR5</th>\n",
              "      <th>RACACOR</th>\n",
              "      <th>PESO</th>\n",
              "      <th>IDANOMAL</th>\n",
              "      <th>DTCADASTRO</th>\n",
              "      <th>CODANOMAL</th>\n",
              "      <th>NUMEROLOTE</th>\n",
              "      <th>VERSAOSIST</th>\n",
              "      <th>DTRECEBIM</th>\n",
              "      <th>DIFDATA</th>\n",
              "      <th>DTRECORIGA</th>\n",
              "      <th>NATURALMAE</th>\n",
              "      <th>CODMUNNATU</th>\n",
              "      <th>CODUFNATU</th>\n",
              "      <th>ESCMAE2010</th>\n",
              "      <th>SERIESCMAE</th>\n",
              "      <th>DTNASCMAE</th>\n",
              "      <th>RACACORMAE</th>\n",
              "      <th>QTDGESTANT</th>\n",
              "      <th>QTDPARTNOR</th>\n",
              "      <th>QTDPARTCES</th>\n",
              "      <th>IDADEPAI</th>\n",
              "      <th>DTULTMENST</th>\n",
              "      <th>SEMAGESTAC</th>\n",
              "      <th>TPMETESTIM</th>\n",
              "      <th>CONSPRENAT</th>\n",
              "      <th>MESPRENAT</th>\n",
              "      <th>TPAPRESENT</th>\n",
              "      <th>STTRABPART</th>\n",
              "      <th>STCESPARTO</th>\n",
              "      <th>TPNASCASSI</th>\n",
              "      <th>TPFUNCRESP</th>\n",
              "      <th>TPDOCRESP</th>\n",
              "      <th>DTDECLARAC</th>\n",
              "      <th>ESCMAEAGR1</th>\n",
              "      <th>STDNEPIDEM</th>\n",
              "      <th>STDNNOVA</th>\n",
              "      <th>CODPAISRES</th>\n",
              "      <th>TPROBSON</th>\n",
              "      <th>PARIDADE</th>\n",
              "      <th>KOTELCHUCK</th>\n",
              "      <th>CONTADOR</th>\n",
              "    </tr>\n",
              "  </thead>\n",
              "  <tbody>\n",
              "    <tr>\n",
              "      <th>0</th>\n",
              "      <td>1</td>\n",
              "      <td>2516381</td>\n",
              "      <td>110004</td>\n",
              "      <td>1</td>\n",
              "      <td>28</td>\n",
              "      <td>2</td>\n",
              "      <td>4</td>\n",
              "      <td>999994</td>\n",
              "      <td>1</td>\n",
              "      <td>0</td>\n",
              "      <td>120050</td>\n",
              "      <td>5</td>\n",
              "      <td>1</td>\n",
              "      <td>2</td>\n",
              "      <td>4</td>\n",
              "      <td>05032018</td>\n",
              "      <td>0842</td>\n",
              "      <td>2</td>\n",
              "      <td>9</td>\n",
              "      <td>10</td>\n",
              "      <td>4</td>\n",
              "      <td>3050.0</td>\n",
              "      <td>2</td>\n",
              "      <td>16032018</td>\n",
              "      <td>NaN</td>\n",
              "      <td>20180004</td>\n",
              "      <td>3.2.01</td>\n",
              "      <td>12042018</td>\n",
              "      <td>038</td>\n",
              "      <td>NaN</td>\n",
              "      <td>811</td>\n",
              "      <td>110004</td>\n",
              "      <td>11</td>\n",
              "      <td>3</td>\n",
              "      <td>3</td>\n",
              "      <td>20041989</td>\n",
              "      <td>4</td>\n",
              "      <td>1</td>\n",
              "      <td>0</td>\n",
              "      <td>1</td>\n",
              "      <td>35</td>\n",
              "      <td>01062017</td>\n",
              "      <td>39</td>\n",
              "      <td>8</td>\n",
              "      <td>8</td>\n",
              "      <td>02</td>\n",
              "      <td>1</td>\n",
              "      <td>2</td>\n",
              "      <td>1</td>\n",
              "      <td>1</td>\n",
              "      <td>2</td>\n",
              "      <td>3</td>\n",
              "      <td>05032018</td>\n",
              "      <td>06</td>\n",
              "      <td>0</td>\n",
              "      <td>1</td>\n",
              "      <td>1</td>\n",
              "      <td>05</td>\n",
              "      <td>1</td>\n",
              "      <td>5</td>\n",
              "      <td>1623</td>\n",
              "    </tr>\n",
              "    <tr>\n",
              "      <th>1</th>\n",
              "      <td>1</td>\n",
              "      <td>3152928</td>\n",
              "      <td>110012</td>\n",
              "      <td>1</td>\n",
              "      <td>39</td>\n",
              "      <td>2</td>\n",
              "      <td>5</td>\n",
              "      <td>223232</td>\n",
              "      <td>1</td>\n",
              "      <td>0</td>\n",
              "      <td>120040</td>\n",
              "      <td>5</td>\n",
              "      <td>1</td>\n",
              "      <td>1</td>\n",
              "      <td>4</td>\n",
              "      <td>11012018</td>\n",
              "      <td>1657</td>\n",
              "      <td>1</td>\n",
              "      <td>9</td>\n",
              "      <td>10</td>\n",
              "      <td>2</td>\n",
              "      <td>3440.0</td>\n",
              "      <td>2</td>\n",
              "      <td>19022018</td>\n",
              "      <td>NaN</td>\n",
              "      <td>20180005</td>\n",
              "      <td>3.2.01</td>\n",
              "      <td>05032018</td>\n",
              "      <td>053</td>\n",
              "      <td>NaN</td>\n",
              "      <td>812</td>\n",
              "      <td>120040</td>\n",
              "      <td>12</td>\n",
              "      <td>5</td>\n",
              "      <td>&lt;NA&gt;</td>\n",
              "      <td>11011979</td>\n",
              "      <td>2</td>\n",
              "      <td>1</td>\n",
              "      <td>1</td>\n",
              "      <td>0</td>\n",
              "      <td>32</td>\n",
              "      <td>20042017</td>\n",
              "      <td>37</td>\n",
              "      <td>8</td>\n",
              "      <td>9</td>\n",
              "      <td>02</td>\n",
              "      <td>1</td>\n",
              "      <td>2</td>\n",
              "      <td>3</td>\n",
              "      <td>1</td>\n",
              "      <td>2</td>\n",
              "      <td>4</td>\n",
              "      <td>NaN</td>\n",
              "      <td>08</td>\n",
              "      <td>0</td>\n",
              "      <td>1</td>\n",
              "      <td>1</td>\n",
              "      <td>03</td>\n",
              "      <td>1</td>\n",
              "      <td>5</td>\n",
              "      <td>3807</td>\n",
              "    </tr>\n",
              "    <tr>\n",
              "      <th>2</th>\n",
              "      <td>1</td>\n",
              "      <td>5618347</td>\n",
              "      <td>110020</td>\n",
              "      <td>1</td>\n",
              "      <td>33</td>\n",
              "      <td>2</td>\n",
              "      <td>4</td>\n",
              "      <td>521110</td>\n",
              "      <td>1</td>\n",
              "      <td>1</td>\n",
              "      <td>120001</td>\n",
              "      <td>5</td>\n",
              "      <td>1</td>\n",
              "      <td>2</td>\n",
              "      <td>4</td>\n",
              "      <td>08022018</td>\n",
              "      <td>1415</td>\n",
              "      <td>1</td>\n",
              "      <td>9</td>\n",
              "      <td>10</td>\n",
              "      <td>4</td>\n",
              "      <td>2920.0</td>\n",
              "      <td>2</td>\n",
              "      <td>16032018</td>\n",
              "      <td>NaN</td>\n",
              "      <td>20180004</td>\n",
              "      <td>3.2.01</td>\n",
              "      <td>10042018</td>\n",
              "      <td>061</td>\n",
              "      <td>NaN</td>\n",
              "      <td>811</td>\n",
              "      <td>110015</td>\n",
              "      <td>11</td>\n",
              "      <td>3</td>\n",
              "      <td>&lt;NA&gt;</td>\n",
              "      <td>26071984</td>\n",
              "      <td>4</td>\n",
              "      <td>2</td>\n",
              "      <td>0</td>\n",
              "      <td>1</td>\n",
              "      <td>&lt;NA&gt;</td>\n",
              "      <td>10052017</td>\n",
              "      <td>38</td>\n",
              "      <td>8</td>\n",
              "      <td>8</td>\n",
              "      <td>03</td>\n",
              "      <td>1</td>\n",
              "      <td>2</td>\n",
              "      <td>2</td>\n",
              "      <td>1</td>\n",
              "      <td>2</td>\n",
              "      <td>4</td>\n",
              "      <td>09022018</td>\n",
              "      <td>12</td>\n",
              "      <td>0</td>\n",
              "      <td>1</td>\n",
              "      <td>1</td>\n",
              "      <td>05</td>\n",
              "      <td>1</td>\n",
              "      <td>5</td>\n",
              "      <td>7192</td>\n",
              "    </tr>\n",
              "    <tr>\n",
              "      <th>3</th>\n",
              "      <td>1</td>\n",
              "      <td>5618347</td>\n",
              "      <td>110020</td>\n",
              "      <td>1</td>\n",
              "      <td>35</td>\n",
              "      <td>2</td>\n",
              "      <td>2</td>\n",
              "      <td>848305</td>\n",
              "      <td>2</td>\n",
              "      <td>0</td>\n",
              "      <td>120001</td>\n",
              "      <td>5</td>\n",
              "      <td>1</td>\n",
              "      <td>2</td>\n",
              "      <td>3</td>\n",
              "      <td>09022018</td>\n",
              "      <td>1850</td>\n",
              "      <td>1</td>\n",
              "      <td>9</td>\n",
              "      <td>9</td>\n",
              "      <td>4</td>\n",
              "      <td>3020.0</td>\n",
              "      <td>2</td>\n",
              "      <td>16032018</td>\n",
              "      <td>NaN</td>\n",
              "      <td>20180004</td>\n",
              "      <td>3.2.01</td>\n",
              "      <td>10042018</td>\n",
              "      <td>060</td>\n",
              "      <td>NaN</td>\n",
              "      <td>811</td>\n",
              "      <td>110008</td>\n",
              "      <td>11</td>\n",
              "      <td>1</td>\n",
              "      <td>&lt;NA&gt;</td>\n",
              "      <td>09101982</td>\n",
              "      <td>4</td>\n",
              "      <td>2</td>\n",
              "      <td>1</td>\n",
              "      <td>1</td>\n",
              "      <td>&lt;NA&gt;</td>\n",
              "      <td>05052017</td>\n",
              "      <td>39</td>\n",
              "      <td>8</td>\n",
              "      <td>6</td>\n",
              "      <td>04</td>\n",
              "      <td>1</td>\n",
              "      <td>2</td>\n",
              "      <td>2</td>\n",
              "      <td>1</td>\n",
              "      <td>2</td>\n",
              "      <td>4</td>\n",
              "      <td>09022018</td>\n",
              "      <td>10</td>\n",
              "      <td>0</td>\n",
              "      <td>1</td>\n",
              "      <td>1</td>\n",
              "      <td>05</td>\n",
              "      <td>1</td>\n",
              "      <td>2</td>\n",
              "      <td>7194</td>\n",
              "    </tr>\n",
              "    <tr>\n",
              "      <th>4</th>\n",
              "      <td>1</td>\n",
              "      <td>5618347</td>\n",
              "      <td>110020</td>\n",
              "      <td>1</td>\n",
              "      <td>21</td>\n",
              "      <td>2</td>\n",
              "      <td>3</td>\n",
              "      <td>NaN</td>\n",
              "      <td>2</td>\n",
              "      <td>0</td>\n",
              "      <td>120001</td>\n",
              "      <td>5</td>\n",
              "      <td>1</td>\n",
              "      <td>1</td>\n",
              "      <td>3</td>\n",
              "      <td>02032018</td>\n",
              "      <td>0336</td>\n",
              "      <td>2</td>\n",
              "      <td>8</td>\n",
              "      <td>9</td>\n",
              "      <td>1</td>\n",
              "      <td>3785.0</td>\n",
              "      <td>2</td>\n",
              "      <td>03042018</td>\n",
              "      <td>NaN</td>\n",
              "      <td>20180004</td>\n",
              "      <td>3.2.01</td>\n",
              "      <td>10042018</td>\n",
              "      <td>039</td>\n",
              "      <td>NaN</td>\n",
              "      <td>812</td>\n",
              "      <td>120001</td>\n",
              "      <td>12</td>\n",
              "      <td>2</td>\n",
              "      <td>&lt;NA&gt;</td>\n",
              "      <td>30051996</td>\n",
              "      <td>1</td>\n",
              "      <td>2</td>\n",
              "      <td>2</td>\n",
              "      <td>0</td>\n",
              "      <td>&lt;NA&gt;</td>\n",
              "      <td>05062017</td>\n",
              "      <td>38</td>\n",
              "      <td>8</td>\n",
              "      <td>6</td>\n",
              "      <td>04</td>\n",
              "      <td>2</td>\n",
              "      <td>2</td>\n",
              "      <td>3</td>\n",
              "      <td>1</td>\n",
              "      <td>2</td>\n",
              "      <td>3</td>\n",
              "      <td>03032018</td>\n",
              "      <td>11</td>\n",
              "      <td>0</td>\n",
              "      <td>1</td>\n",
              "      <td>1</td>\n",
              "      <td>07</td>\n",
              "      <td>1</td>\n",
              "      <td>2</td>\n",
              "      <td>7328</td>\n",
              "    </tr>\n",
              "    <tr>\n",
              "      <th>...</th>\n",
              "      <td>...</td>\n",
              "      <td>...</td>\n",
              "      <td>...</td>\n",
              "      <td>...</td>\n",
              "      <td>...</td>\n",
              "      <td>...</td>\n",
              "      <td>...</td>\n",
              "      <td>...</td>\n",
              "      <td>...</td>\n",
              "      <td>...</td>\n",
              "      <td>...</td>\n",
              "      <td>...</td>\n",
              "      <td>...</td>\n",
              "      <td>...</td>\n",
              "      <td>...</td>\n",
              "      <td>...</td>\n",
              "      <td>...</td>\n",
              "      <td>...</td>\n",
              "      <td>...</td>\n",
              "      <td>...</td>\n",
              "      <td>...</td>\n",
              "      <td>...</td>\n",
              "      <td>...</td>\n",
              "      <td>...</td>\n",
              "      <td>...</td>\n",
              "      <td>...</td>\n",
              "      <td>...</td>\n",
              "      <td>...</td>\n",
              "      <td>...</td>\n",
              "      <td>...</td>\n",
              "      <td>...</td>\n",
              "      <td>...</td>\n",
              "      <td>...</td>\n",
              "      <td>...</td>\n",
              "      <td>...</td>\n",
              "      <td>...</td>\n",
              "      <td>...</td>\n",
              "      <td>...</td>\n",
              "      <td>...</td>\n",
              "      <td>...</td>\n",
              "      <td>...</td>\n",
              "      <td>...</td>\n",
              "      <td>...</td>\n",
              "      <td>...</td>\n",
              "      <td>...</td>\n",
              "      <td>...</td>\n",
              "      <td>...</td>\n",
              "      <td>...</td>\n",
              "      <td>...</td>\n",
              "      <td>...</td>\n",
              "      <td>...</td>\n",
              "      <td>...</td>\n",
              "      <td>...</td>\n",
              "      <td>...</td>\n",
              "      <td>...</td>\n",
              "      <td>...</td>\n",
              "      <td>...</td>\n",
              "      <td>...</td>\n",
              "      <td>...</td>\n",
              "      <td>...</td>\n",
              "      <td>...</td>\n",
              "    </tr>\n",
              "    <tr>\n",
              "      <th>16538</th>\n",
              "      <td>1</td>\n",
              "      <td>2402092</td>\n",
              "      <td>293330</td>\n",
              "      <td>1</td>\n",
              "      <td>32</td>\n",
              "      <td>2</td>\n",
              "      <td>5</td>\n",
              "      <td>232120</td>\n",
              "      <td>0</td>\n",
              "      <td>0</td>\n",
              "      <td>120040</td>\n",
              "      <td>5</td>\n",
              "      <td>1</td>\n",
              "      <td>1</td>\n",
              "      <td>4</td>\n",
              "      <td>13082018</td>\n",
              "      <td>1104</td>\n",
              "      <td>2</td>\n",
              "      <td>7</td>\n",
              "      <td>9</td>\n",
              "      <td>4</td>\n",
              "      <td>1995.0</td>\n",
              "      <td>2</td>\n",
              "      <td>24092018</td>\n",
              "      <td>NaN</td>\n",
              "      <td>20180014</td>\n",
              "      <td>3.2.02</td>\n",
              "      <td>26092018</td>\n",
              "      <td>044</td>\n",
              "      <td>NaN</td>\n",
              "      <td>829</td>\n",
              "      <td>293330</td>\n",
              "      <td>29</td>\n",
              "      <td>5</td>\n",
              "      <td>&lt;NA&gt;</td>\n",
              "      <td>06071986</td>\n",
              "      <td>4</td>\n",
              "      <td>0</td>\n",
              "      <td>0</td>\n",
              "      <td>0</td>\n",
              "      <td>36</td>\n",
              "      <td>26112017</td>\n",
              "      <td>37</td>\n",
              "      <td>8</td>\n",
              "      <td>9</td>\n",
              "      <td>01</td>\n",
              "      <td>2</td>\n",
              "      <td>2</td>\n",
              "      <td>3</td>\n",
              "      <td>1</td>\n",
              "      <td>5</td>\n",
              "      <td>4</td>\n",
              "      <td>13082018</td>\n",
              "      <td>08</td>\n",
              "      <td>0</td>\n",
              "      <td>1</td>\n",
              "      <td>1</td>\n",
              "      <td>06</td>\n",
              "      <td>0</td>\n",
              "      <td>5</td>\n",
              "      <td>2088675</td>\n",
              "    </tr>\n",
              "    <tr>\n",
              "      <th>16539</th>\n",
              "      <td>1</td>\n",
              "      <td>2092611</td>\n",
              "      <td>350550</td>\n",
              "      <td>1</td>\n",
              "      <td>37</td>\n",
              "      <td>1</td>\n",
              "      <td>3</td>\n",
              "      <td>621005</td>\n",
              "      <td>6</td>\n",
              "      <td>0</td>\n",
              "      <td>120039</td>\n",
              "      <td>4</td>\n",
              "      <td>1</td>\n",
              "      <td>2</td>\n",
              "      <td>2</td>\n",
              "      <td>04072018</td>\n",
              "      <td>0932</td>\n",
              "      <td>1</td>\n",
              "      <td>1</td>\n",
              "      <td>10</td>\n",
              "      <td>4</td>\n",
              "      <td>2950.0</td>\n",
              "      <td>2</td>\n",
              "      <td>13072018</td>\n",
              "      <td>NaN</td>\n",
              "      <td>20180016</td>\n",
              "      <td>3.2.01</td>\n",
              "      <td>30072018</td>\n",
              "      <td>026</td>\n",
              "      <td>NaN</td>\n",
              "      <td>812</td>\n",
              "      <td>120039</td>\n",
              "      <td>12</td>\n",
              "      <td>1</td>\n",
              "      <td>4</td>\n",
              "      <td>05091980</td>\n",
              "      <td>4</td>\n",
              "      <td>6</td>\n",
              "      <td>6</td>\n",
              "      <td>0</td>\n",
              "      <td>&lt;NA&gt;</td>\n",
              "      <td>NaN</td>\n",
              "      <td>36</td>\n",
              "      <td>2</td>\n",
              "      <td>2</td>\n",
              "      <td>04</td>\n",
              "      <td>2</td>\n",
              "      <td>2</td>\n",
              "      <td>1</td>\n",
              "      <td>1</td>\n",
              "      <td>2</td>\n",
              "      <td>4</td>\n",
              "      <td>04072018</td>\n",
              "      <td>02</td>\n",
              "      <td>0</td>\n",
              "      <td>1</td>\n",
              "      <td>1</td>\n",
              "      <td>07</td>\n",
              "      <td>1</td>\n",
              "      <td>2</td>\n",
              "      <td>2360071</td>\n",
              "    </tr>\n",
              "    <tr>\n",
              "      <th>16540</th>\n",
              "      <td>1</td>\n",
              "      <td>2080575</td>\n",
              "      <td>355030</td>\n",
              "      <td>1</td>\n",
              "      <td>37</td>\n",
              "      <td>2</td>\n",
              "      <td>5</td>\n",
              "      <td>241005</td>\n",
              "      <td>1</td>\n",
              "      <td>0</td>\n",
              "      <td>120040</td>\n",
              "      <td>5</td>\n",
              "      <td>1</td>\n",
              "      <td>2</td>\n",
              "      <td>4</td>\n",
              "      <td>12122018</td>\n",
              "      <td>1051</td>\n",
              "      <td>2</td>\n",
              "      <td>7</td>\n",
              "      <td>8</td>\n",
              "      <td>1</td>\n",
              "      <td>3120.0</td>\n",
              "      <td>1</td>\n",
              "      <td>19122018</td>\n",
              "      <td>Q201Q212</td>\n",
              "      <td>20180053</td>\n",
              "      <td>3.2.01</td>\n",
              "      <td>26122018</td>\n",
              "      <td>014</td>\n",
              "      <td>NaN</td>\n",
              "      <td>812</td>\n",
              "      <td>120040</td>\n",
              "      <td>12</td>\n",
              "      <td>5</td>\n",
              "      <td>&lt;NA&gt;</td>\n",
              "      <td>20041981</td>\n",
              "      <td>1</td>\n",
              "      <td>1</td>\n",
              "      <td>0</td>\n",
              "      <td>1</td>\n",
              "      <td>38</td>\n",
              "      <td>15032018</td>\n",
              "      <td>39</td>\n",
              "      <td>8</td>\n",
              "      <td>16</td>\n",
              "      <td>01</td>\n",
              "      <td>1</td>\n",
              "      <td>2</td>\n",
              "      <td>1</td>\n",
              "      <td>1</td>\n",
              "      <td>2</td>\n",
              "      <td>3</td>\n",
              "      <td>12122018</td>\n",
              "      <td>08</td>\n",
              "      <td>0</td>\n",
              "      <td>1</td>\n",
              "      <td>1</td>\n",
              "      <td>05</td>\n",
              "      <td>1</td>\n",
              "      <td>5</td>\n",
              "      <td>2601966</td>\n",
              "    </tr>\n",
              "    <tr>\n",
              "      <th>16541</th>\n",
              "      <td>1</td>\n",
              "      <td>7306504</td>\n",
              "      <td>520870</td>\n",
              "      <td>1</td>\n",
              "      <td>37</td>\n",
              "      <td>2</td>\n",
              "      <td>5</td>\n",
              "      <td>231205</td>\n",
              "      <td>0</td>\n",
              "      <td>0</td>\n",
              "      <td>120045</td>\n",
              "      <td>4</td>\n",
              "      <td>1</td>\n",
              "      <td>2</td>\n",
              "      <td>4</td>\n",
              "      <td>22122018</td>\n",
              "      <td>1015</td>\n",
              "      <td>1</td>\n",
              "      <td>4</td>\n",
              "      <td>7</td>\n",
              "      <td>4</td>\n",
              "      <td>2180.0</td>\n",
              "      <td>2</td>\n",
              "      <td>21082019</td>\n",
              "      <td>NaN</td>\n",
              "      <td>20190050</td>\n",
              "      <td>3.2.01</td>\n",
              "      <td>22082019</td>\n",
              "      <td>243</td>\n",
              "      <td>NaN</td>\n",
              "      <td>852</td>\n",
              "      <td>520870</td>\n",
              "      <td>52</td>\n",
              "      <td>5</td>\n",
              "      <td>&lt;NA&gt;</td>\n",
              "      <td>19111981</td>\n",
              "      <td>4</td>\n",
              "      <td>0</td>\n",
              "      <td>0</td>\n",
              "      <td>0</td>\n",
              "      <td>&lt;NA&gt;</td>\n",
              "      <td>15042018</td>\n",
              "      <td>36</td>\n",
              "      <td>8</td>\n",
              "      <td>18</td>\n",
              "      <td>04</td>\n",
              "      <td>2</td>\n",
              "      <td>2</td>\n",
              "      <td>1</td>\n",
              "      <td>1</td>\n",
              "      <td>2</td>\n",
              "      <td>3</td>\n",
              "      <td>22122018</td>\n",
              "      <td>08</td>\n",
              "      <td>0</td>\n",
              "      <td>1</td>\n",
              "      <td>1</td>\n",
              "      <td>06</td>\n",
              "      <td>0</td>\n",
              "      <td>2</td>\n",
              "      <td>2914104</td>\n",
              "    </tr>\n",
              "    <tr>\n",
              "      <th>16542</th>\n",
              "      <td>1</td>\n",
              "      <td>7981457</td>\n",
              "      <td>530010</td>\n",
              "      <td>1</td>\n",
              "      <td>27</td>\n",
              "      <td>2</td>\n",
              "      <td>5</td>\n",
              "      <td>241005</td>\n",
              "      <td>0</td>\n",
              "      <td>0</td>\n",
              "      <td>120040</td>\n",
              "      <td>5</td>\n",
              "      <td>1</td>\n",
              "      <td>2</td>\n",
              "      <td>4</td>\n",
              "      <td>09072018</td>\n",
              "      <td>1838</td>\n",
              "      <td>1</td>\n",
              "      <td>9</td>\n",
              "      <td>10</td>\n",
              "      <td>1</td>\n",
              "      <td>3220.0</td>\n",
              "      <td>2</td>\n",
              "      <td>28092018</td>\n",
              "      <td>NaN</td>\n",
              "      <td>20180045</td>\n",
              "      <td>3.2.01</td>\n",
              "      <td>01102018</td>\n",
              "      <td>084</td>\n",
              "      <td>NaN</td>\n",
              "      <td>812</td>\n",
              "      <td>120040</td>\n",
              "      <td>12</td>\n",
              "      <td>5</td>\n",
              "      <td>&lt;NA&gt;</td>\n",
              "      <td>23031991</td>\n",
              "      <td>1</td>\n",
              "      <td>0</td>\n",
              "      <td>0</td>\n",
              "      <td>0</td>\n",
              "      <td>37</td>\n",
              "      <td>13102017</td>\n",
              "      <td>38</td>\n",
              "      <td>8</td>\n",
              "      <td>10</td>\n",
              "      <td>01</td>\n",
              "      <td>1</td>\n",
              "      <td>2</td>\n",
              "      <td>1</td>\n",
              "      <td>1</td>\n",
              "      <td>2</td>\n",
              "      <td>3</td>\n",
              "      <td>09072018</td>\n",
              "      <td>08</td>\n",
              "      <td>0</td>\n",
              "      <td>1</td>\n",
              "      <td>1</td>\n",
              "      <td>02</td>\n",
              "      <td>0</td>\n",
              "      <td>5</td>\n",
              "      <td>2926322</td>\n",
              "    </tr>\n",
              "  </tbody>\n",
              "</table>\n",
              "<p>16543 rows × 61 columns</p>\n",
              "</div>"
            ],
            "text/plain": [
              "      ORIGEM CODESTAB CODMUNNASC LOCNASC  ...  TPROBSON PARIDADE KOTELCHUCK CONTADOR\n",
              "0          1  2516381     110004       1  ...        05        1          5     1623\n",
              "1          1  3152928     110012       1  ...        03        1          5     3807\n",
              "2          1  5618347     110020       1  ...        05        1          5     7192\n",
              "3          1  5618347     110020       1  ...        05        1          2     7194\n",
              "4          1  5618347     110020       1  ...        07        1          2     7328\n",
              "...      ...      ...        ...     ...  ...       ...      ...        ...      ...\n",
              "16538      1  2402092     293330       1  ...        06        0          5  2088675\n",
              "16539      1  2092611     350550       1  ...        07        1          2  2360071\n",
              "16540      1  2080575     355030       1  ...        05        1          5  2601966\n",
              "16541      1  7306504     520870       1  ...        06        0          2  2914104\n",
              "16542      1  7981457     530010       1  ...        02        0          5  2926322\n",
              "\n",
              "[16543 rows x 61 columns]"
            ]
          },
          "metadata": {
            "tags": []
          },
          "execution_count": 4
        }
      ]
    },
    {
      "cell_type": "code",
      "metadata": {
        "colab": {
          "base_uri": "https://localhost:8080/"
        },
        "id": "cQHQYBBPtiFr",
        "outputId": "5e9d8ee0-4aad-4b0c-9e66-a5d1ff263518"
      },
      "source": [
        "viuvas_filhosVivos = sinasc[sinasc.ESTCIVMAE == '3']['QTDFILVIVO']\n",
        "viuvas_filhosVivos = viuvas_filhosVivos.reset_index(drop=True) #reseta o índice\n",
        "viuvas_filhosVivos = viuvas_filhosVivos.set_index('CONTADOR') #escolhe a coluna que ficará no índice (textinho abaixo do eixo y')\n",
        "viuvas_filhosVivos"
      ],
      "execution_count": 11,
      "outputs": [
        {
          "output_type": "execute_result",
          "data": {
            "text/plain": [
              "0     <NA>\n",
              "1        1\n",
              "2        3\n",
              "3        4\n",
              "4        1\n",
              "5        1\n",
              "6        3\n",
              "7        6\n",
              "8        0\n",
              "9        1\n",
              "10       2\n",
              "11       2\n",
              "12       7\n",
              "13       3\n",
              "Name: QTDFILVIVO, dtype: Int64"
            ]
          },
          "metadata": {
            "tags": []
          },
          "execution_count": 11
        }
      ]
    },
    {
      "cell_type": "code",
      "metadata": {
        "colab": {
          "base_uri": "https://localhost:8080/",
          "height": 516
        },
        "id": "tMEFxb9luHMz",
        "outputId": "d1ecfdb9-d768-4b7b-b39c-2e3dfbced88c"
      },
      "source": [
        "#CRIANDO GRÁFICO DE BARRAS\n",
        "\n",
        "barras = viuvas_filhosVivos.plot(kind='bar', y='QTDFILVIVO', width=0.5, figsize=(20,8)) #Plotando gráfico, y= escolhe a coluna do eixo y, figsize - Define tamanho do gráfico e width define largura das barrinhas\n",
        "barras.set(xLabel='Observação', yLabel='Qtd. Filhos Vivos') #Colocando Legenda\n",
        "barras.legend([\"Qtd. Filhos Vivos\"])"
      ],
      "execution_count": 13,
      "outputs": [
        {
          "output_type": "execute_result",
          "data": {
            "text/plain": [
              "<matplotlib.legend.Legend at 0x7fba07874490>"
            ]
          },
          "metadata": {
            "tags": []
          },
          "execution_count": 13
        },
        {
          "output_type": "display_data",
          "data": {
            "image/png": "[encoded data removed]",
            "text/plain": [
              "<Figure size 1440x576 with 1 Axes>"
            ]
          },
          "metadata": {
            "tags": [],
            "needs_background": "light"
          }
        }
      ]
    },
    {
      "cell_type": "code",
      "metadata": {
        "colab": {
          "base_uri": "https://localhost:8080/",
          "height": 541
        },
        "id": "A64UuaU-yCUA",
        "outputId": "02640761-9e2f-4755-c2c8-622e51c3c8e6"
      },
      "source": [
        "#Frequencia de Nacimentos por Município \n",
        "\n",
        "grupo = sinasc.groupby(by='CODMUNNASC').count() #Criando um agrupamento por código do municipio de nascimento\n",
        "barras = grupo[['CONTADOR']].plot(kind='bar', figsize=(20,8))\n",
        "barras.set(xLabel='MUNICÍPIO DE NASCIMENTO', yLabel='Qtd') #Colocando Legenda"
      ],
      "execution_count": 20,
      "outputs": [
        {
          "output_type": "execute_result",
          "data": {
            "text/plain": [
              "[Text(0, 0.5, 'Qtd'), Text(0.5, 0, 'MUNICÍPIO DE NASCIMENTO')]"
            ]
          },
          "metadata": {
            "tags": []
          },
          "execution_count": 20
        },
        {
          "output_type": "display_data",
          "data": {
            "image/png": "[encoded data removed]",
            "text/plain": [
              "<Figure size 1440x576 with 1 Axes>"
            ]
          },
          "metadata": {
            "tags": [],
            "needs_background": "light"
          }
        }
      ]
    },
    {
      "cell_type": "code",
      "metadata": {
        "colab": {
          "base_uri": "https://localhost:8080/",
          "height": 492
        },
        "id": "9eeDNc_4zuQY",
        "outputId": "e76664db-7b05-4d34-bbd1-4d79e08a6afe"
      },
      "source": [
        "#Calcule a Frequência de nascimentos por escolaridade da mãe (ESCMAE)\n",
        "grupo = sinasc.groupby(by='ESCMAE').count() #Criando um agrupamento por código do municipio de nascimento\n",
        "barras = grupo[['CONTADOR']].plot(kind='bar',figsize=(20,8)) #Escolhemos a coluna Contador porque nela nao tem dados nulos, não escolha colunas que possuem dados nulos."
      ],
      "execution_count": 22,
      "outputs": [
        {
          "output_type": "display_data",
          "data": {
            "image/png": "[encoded data removed]",
            "text/plain": [
              "<Figure size 1440x576 with 1 Axes>"
            ]
          },
          "metadata": {
            "tags": [],
            "needs_background": "light"
          }
        }
      ]
    },
    {
      "cell_type": "code",
      "metadata": {
        "colab": {
          "base_uri": "https://localhost:8080/",
          "height": 505
        },
        "id": "NlzcamKT11n5",
        "outputId": "b000068c-f6ab-4251-d8ad-29d9678f749b"
      },
      "source": [
        "viuvas_apgar = sinasc[sinasc.ESTCIVMAE=='3'][['APGAR1','APGAR5']]\n",
        "barras = viuvas_apgar.plot(kind='bar',figsize=(20,8))\n",
        "\n",
        "#Adicionando os rótulos as colunas\n",
        "for i in barras.patches:\n",
        "  barras.text(i.get_x()+.2, i.get_height(), i.get_height()) "
      ],
      "execution_count": 32,
      "outputs": [
        {
          "output_type": "display_data",
          "data": {
            "image/png": "[encoded data removed]",
            "text/plain": [
              "<Figure size 1440x576 with 1 Axes>"
            ]
          },
          "metadata": {
            "tags": [],
            "needs_background": "light"
          }
        }
      ]
    },
    {
      "cell_type": "markdown",
      "metadata": {
        "id": "dxfy6utp5DNt"
      },
      "source": [
        "**GRÁFICO DE PIZZA - BOM PARA PORCENTAGENS**"
      ]
    },
    {
      "cell_type": "code",
      "metadata": {
        "colab": {
          "base_uri": "https://localhost:8080/",
          "height": 575
        },
        "id": "LnusKKJ65Lwd",
        "outputId": "a4eed535-3c0b-464e-fe44-349e96ff2320"
      },
      "source": [
        "grupo = sinasc.groupby(by='ESCMAE').count() #Criando um agrupamento por código do municipio de nascimento\n",
        "pizza = grupo['CONTADOR'].plot(kind='pie', figsize=(10,10), autopct='%1.2f%%') #criando gráfico de pizza, autopct formata as porcentagens no formato %1.2f%% Duas casas após a vírgula "
      ],
      "execution_count": 40,
      "outputs": [
        {
          "output_type": "display_data",
          "data": {
            "image/png": "[encoded data removed]",
            "text/plain": [
              "<Figure size 720x720 with 1 Axes>"
            ]
          },
          "metadata": {
            "tags": []
          }
        }
      ]
    },
    {
      "cell_type": "markdown",
      "metadata": {
        "id": "NNKryvce6_el"
      },
      "source": [
        "**GRÁFICO DE HISTOGRAMA - BOM PARA DISTRIBUIÇÕES DE FREQUÊNCIAS OU DISTRIBUIÇÕES DOS DADOS**"
      ]
    },
    {
      "cell_type": "code",
      "metadata": {
        "colab": {
          "base_uri": "https://localhost:8080/",
          "height": 281
        },
        "id": "-uAXWhIS7GqG",
        "outputId": "e4da68d9-f7ac-451b-cfaf-e56872bf9303"
      },
      "source": [
        "bins_values = sinasc.IDADEMAE.value_counts() #os bins são atributos usados para saber as ditribuicoes dos grupos\n",
        "hist = sinasc.hist(column='IDADEMAE', bins=sorted(bins_values.keys()),grid=False) #"
      ],
      "execution_count": 46,
      "outputs": [
        {
          "output_type": "display_data",
          "data": {
            "image/png": "[encoded data removed]",
            "text/plain": [
              "<Figure size 432x288 with 1 Axes>"
            ]
          },
          "metadata": {
            "tags": [],
            "needs_background": "light"
          }
        }
      ]
    },
    {
      "cell_type": "markdown",
      "metadata": {
        "id": "yTqbJGrVD6aq"
      },
      "source": [
        "**GRÁFICO DE DISPERSÃO**"
      ]
    },
    {
      "cell_type": "code",
      "metadata": {
        "colab": {
          "base_uri": "https://localhost:8080/",
          "height": 606
        },
        "id": "chE2e-HaD-8a",
        "outputId": "13f9eae8-91a0-4387-c7be-01ec067c6a03"
      },
      "source": [
        "grupo = sinasc.groupby(by='IDADEMAE').count().reset_index() #Criando um agrupamento por código do municipio de nascimento\n",
        "disp = grupo.plot(kind='scatter', x='IDADEMAE', y='CONTADOR',figsize=(10,10), s=100)"
      ],
      "execution_count": 49,
      "outputs": [
        {
          "output_type": "display_data",
          "data": {
            "image/png": "[encoded data removed]",
            "text/plain": [
              "<Figure size 720x720 with 1 Axes>"
            ]
          },
          "metadata": {
            "tags": [],
            "needs_background": "light"
          }
        }
      ]
    },
    {
      "cell_type": "code",
      "metadata": {
        "colab": {
          "base_uri": "https://localhost:8080/",
          "height": 387
        },
        "id": "BJFlS7xpFcu_",
        "outputId": "27028875-c914-44ca-c9e6-7192872d61bd"
      },
      "source": [
        "sinascDisp = sinasc[['IDADEMAE','PESO']].dropna() #Removendo valores nulos\n",
        "disp = sinascDisp.plot(kind='scatter',x='IDADEMAE', y='PESO',figsize=(12,6)) #inserindo dois dados para comparação dos dados"
      ],
      "execution_count": 59,
      "outputs": [
        {
          "output_type": "display_data",
          "data": {
            "image/png": "[encoded data removed]",
            "text/plain": [
              "<Figure size 864x432 with 1 Axes>"
            ]
          },
          "metadata": {
            "tags": [],
            "needs_background": "light"
          }
        }
      ]
    },
    {
      "cell_type": "markdown",
      "metadata": {
        "id": "4YC_5AKoHh1w"
      },
      "source": [
        "**BOXPLOT - Bom para apresentar os Quartis e a Mediana, os pontos pretos são os Outliers, ou dados que estão bem fora do padrão dos dados, bom para apresentarn dados Quantitativos**"
      ]
    },
    {
      "cell_type": "code",
      "metadata": {
        "colab": {
          "base_uri": "https://localhost:8080/",
          "height": 426
        },
        "id": "e7lAmqV0IF5K",
        "outputId": "5dc51a82-8e56-46a7-c106-6dc67e143180"
      },
      "source": [
        "bp = sinasc.boxplot(column=['IDADEPAI','IDADEMAE'],figsize=(12,6)) #cOMPARANDO MAIS DE UM VALOR NO BOXPLOT, PODE-SE COLOCAR UM SÓ TAMBÉM"
      ],
      "execution_count": 66,
      "outputs": [
        {
          "output_type": "stream",
          "text": [
            "/usr/local/lib/python3.7/dist-packages/numpy/core/_asarray.py:83: VisibleDeprecationWarning: Creating an ndarray from ragged nested sequences (which is a list-or-tuple of lists-or-tuples-or ndarrays with different lengths or shapes) is deprecated. If you meant to do this, you must specify 'dtype=object' when creating the ndarray\n",
            "  return array(a, dtype, copy=False, order=order)\n"
          ],
          "name": "stderr"
        },
        {
          "output_type": "display_data",
          "data": {
            "image/png": "[encoded data removed]",
            "text/plain": [
              "<Figure size 864x432 with 1 Axes>"
            ]
          },
          "metadata": {
            "tags": [],
            "needs_background": "light"
          }
        }
      ]
    },
    {
      "cell_type": "code",
      "metadata": {
        "colab": {
          "base_uri": "https://localhost:8080/",
          "height": 472
        },
        "id": "LKuv47kgJVlo",
        "outputId": "6f0a61cb-cffc-4860-b8e8-cfb4086ee3c9"
      },
      "source": [
        "bp = sinasc.boxplot(column=['QTDFILVIVO'],by='ESCMAE',figsize=(12,6)) #cOMPARANDO MAIS DE UM VALOR NO BOXPLOT, PODE-SE COLOCAR UM SÓ TAMBÉM"
      ],
      "execution_count": 67,
      "outputs": [
        {
          "output_type": "stream",
          "text": [
            "/usr/local/lib/python3.7/dist-packages/numpy/core/_asarray.py:83: VisibleDeprecationWarning: Creating an ndarray from ragged nested sequences (which is a list-or-tuple of lists-or-tuples-or ndarrays with different lengths or shapes) is deprecated. If you meant to do this, you must specify 'dtype=object' when creating the ndarray\n",
            "  return array(a, dtype, copy=False, order=order)\n"
          ],
          "name": "stderr"
        },
        {
          "output_type": "display_data",
          "data": {
            "image/png": "[encoded data removed]",
            "text/plain": [
              "<Figure size 864x432 with 1 Axes>"
            ]
          },
          "metadata": {
            "tags": [],
            "needs_background": "light"
          }
        }
      ]
    }
  ]
}