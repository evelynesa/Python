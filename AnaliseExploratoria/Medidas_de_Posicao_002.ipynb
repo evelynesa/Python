{
  "nbformat": 4,
  "nbformat_minor": 0,
  "metadata": {
    "colab": {
      "name": "Medidas_de_Posicao.ipynb",
      "provenance": []
    },
    "kernelspec": {
      "name": "python3",
      "display_name": "Python 3"
    },
    "language_info": {
      "name": "python"
    }
  },
  "cells": [
    {
      "cell_type": "code",
      "metadata": {
        "id": "NvpeKDMtAkiw"
      },
      "source": [
        "#Lendo Arquivo com Pandas\n",
        "import pandas as pd"
      ],
      "execution_count": 1,
      "outputs": []
    },
    {
      "cell_type": "code",
      "metadata": {
        "id": "v02yUHTaBYoV"
      },
      "source": [
        "#Lendo o arquivo\n",
        "pathArq = '/content/DNSE2017.csv'\n",
        "sinasc = pd.read_csv(pathArq,dtype=str) #Colocando tudo como qualitativo\n"
      ],
      "execution_count": 21,
      "outputs": []
    },
    {
      "cell_type": "markdown",
      "metadata": {
        "id": "-YC88FwWExU0"
      },
      "source": [
        "**1 - ** Qual a média da idade da mãe, peso, apgar 1 min, apgar 5 min, quantidade de filhos vivos e quantidade de filhos mortos?"
      ]
    },
    {
      "cell_type": "code",
      "metadata": {
        "id": "-8jdrvsCBrQ9"
      },
      "source": [
        "#Convertendo os campos necessários para criar um novo DataFrame\n",
        "sinasc.IDADEMAE = pd.to_numeric(sinasc.IDADEMAE).astype(pd.Int64Dtype())\n",
        "sinasc.PESO = pd.to_numeric(sinasc.PESO)\n",
        "sinasc.APGAR1 = pd.to_numeric(sinasc.APGAR1).astype(pd.Int64Dtype())\n",
        "sinasc.APGAR5 = pd.to_numeric(sinasc.APGAR5).astype(pd.Int64Dtype())\n",
        "sinasc.QTDFILVIVO = pd.to_numeric(sinasc.QTDFILVIVO).astype(pd.Int64Dtype())\n",
        "sinasc.QTDFILMORT = pd.to_numeric(sinasc.QTDFILMORT).astype(pd.Int64Dtype())"
      ],
      "execution_count": 22,
      "outputs": []
    },
    {
      "cell_type": "code",
      "metadata": {
        "colab": {
          "base_uri": "https://localhost:8080/"
        },
        "id": "M3H6n2tgD4S_",
        "outputId": "9cdc5ea6-b90d-4c4b-f0ec-e38e271631eb"
      },
      "source": [
        "#criando um sub dataframe \n",
        "sinascSE = sinasc[['IDADEMAE','PESO','APGAR1','APGAR5','QTDFILVIVO','QTDFILMORT']]\n",
        "media = sinascSE.mean()\n",
        "media"
      ],
      "execution_count": 23,
      "outputs": [
        {
          "output_type": "execute_result",
          "data": {
            "text/plain": [
              "IDADEMAE        26.666080\n",
              "PESO          3166.705669\n",
              "APGAR1           8.335899\n",
              "APGAR5           9.420781\n",
              "QTDFILVIVO       0.944329\n",
              "QTDFILMORT       0.266825\n",
              "dtype: float64"
            ]
          },
          "metadata": {
            "tags": []
          },
          "execution_count": 23
        }
      ]
    },
    {
      "cell_type": "markdown",
      "metadata": {
        "id": "hVdc-11OFREb"
      },
      "source": [
        "**2 - **Qual a idade tal que metade das idades das mães são menores que ela (mediana)?"
      ]
    },
    {
      "cell_type": "code",
      "metadata": {
        "colab": {
          "base_uri": "https://localhost:8080/"
        },
        "id": "2GwtvCvsFX_V",
        "outputId": "0469b5ca-ef8e-443c-ba73-1b3460c20233"
      },
      "source": [
        "sinascSE.IDADEMAE.median()"
      ],
      "execution_count": 16,
      "outputs": [
        {
          "output_type": "execute_result",
          "data": {
            "text/plain": [
              "26.0"
            ]
          },
          "metadata": {
            "tags": []
          },
          "execution_count": 16
        }
      ]
    },
    {
      "cell_type": "markdown",
      "metadata": {
        "id": "X5fPDYKnFsG9"
      },
      "source": [
        "**3 -** Qual o apgar de 1 min que mais aparece (moda)?\n",
        "\n"
      ]
    },
    {
      "cell_type": "code",
      "metadata": {
        "colab": {
          "base_uri": "https://localhost:8080/"
        },
        "id": "fkOPx09mFmc7",
        "outputId": "321315c6-e2f0-41bf-8ef4-932e15715124"
      },
      "source": [
        "sinascSE.APGAR1.mode()"
      ],
      "execution_count": 17,
      "outputs": [
        {
          "output_type": "execute_result",
          "data": {
            "text/plain": [
              "0    9\n",
              "dtype: Int64"
            ]
          },
          "metadata": {
            "tags": []
          },
          "execution_count": 17
        }
      ]
    },
    {
      "cell_type": "markdown",
      "metadata": {
        "id": "itkjgKwZF9jb"
      },
      "source": [
        "**4 - **Qual o apgar de 5 minutos que mais aparece?"
      ]
    },
    {
      "cell_type": "code",
      "metadata": {
        "colab": {
          "base_uri": "https://localhost:8080/"
        },
        "id": "fufKwjaTGIoj",
        "outputId": "6cf6b6a8-8890-48f4-847c-8f431ba1b849"
      },
      "source": [
        "sinascSE.APGAR5.mode()"
      ],
      "execution_count": 18,
      "outputs": [
        {
          "output_type": "execute_result",
          "data": {
            "text/plain": [
              "0    10\n",
              "dtype: Int64"
            ]
          },
          "metadata": {
            "tags": []
          },
          "execution_count": 18
        }
      ]
    },
    {
      "cell_type": "markdown",
      "metadata": {
        "id": "j8rXVA8aGQbs"
      },
      "source": [
        "**5 -** Qual o peso da criança tal que 10% dos pesos são menores (P10)?"
      ]
    },
    {
      "cell_type": "code",
      "metadata": {
        "colab": {
          "base_uri": "https://localhost:8080/"
        },
        "id": "jj7hxNipGXv1",
        "outputId": "55801dd0-eb11-417d-db35-d76cce9f4b37"
      },
      "source": [
        "sinascSE.PESO.quantile([0.10])"
      ],
      "execution_count": 15,
      "outputs": [
        {
          "output_type": "execute_result",
          "data": {
            "text/plain": [
              "0.1    2430.0\n",
              "Name: PESO, dtype: float64"
            ]
          },
          "metadata": {
            "tags": []
          },
          "execution_count": 15
        }
      ]
    },
    {
      "cell_type": "markdown",
      "metadata": {
        "id": "sEVx4f5GH7Jp"
      },
      "source": [
        "**6 -** Qual o peso da criança tal que 75% dos pesos são menores (Q3)?"
      ]
    },
    {
      "cell_type": "code",
      "metadata": {
        "colab": {
          "base_uri": "https://localhost:8080/"
        },
        "id": "M-bpBGr9IEar",
        "outputId": "7db35de8-6f5f-4dbb-cb2e-1bc02ac57cbd"
      },
      "source": [
        "sinascSE.PESO.quantile([0.75])"
      ],
      "execution_count": 16,
      "outputs": [
        {
          "output_type": "execute_result",
          "data": {
            "text/plain": [
              "0.75    3550.0\n",
              "Name: PESO, dtype: float64"
            ]
          },
          "metadata": {
            "tags": []
          },
          "execution_count": 16
        }
      ]
    },
    {
      "cell_type": "markdown",
      "metadata": {
        "id": "gpswzqiGIUrz"
      },
      "source": [
        "**7 -** Qual a quantidade de filhos mortos que mais aparece?"
      ]
    },
    {
      "cell_type": "code",
      "metadata": {
        "colab": {
          "base_uri": "https://localhost:8080/"
        },
        "id": "xRiLIJvRIYhj",
        "outputId": "ec9010ab-e4b2-4ca7-f918-4b0dd2c80ebb"
      },
      "source": [
        "sinascSE.QTDFILMORT.mode()"
      ],
      "execution_count": 24,
      "outputs": [
        {
          "output_type": "execute_result",
          "data": {
            "text/plain": [
              "0    0\n",
              "dtype: Int64"
            ]
          },
          "metadata": {
            "tags": []
          },
          "execution_count": 24
        }
      ]
    },
    {
      "cell_type": "markdown",
      "metadata": {
        "id": "NzZ-CS3EIftz"
      },
      "source": [
        "**8 -** Qual a média de idade de mães solteiras?"
      ]
    },
    {
      "cell_type": "code",
      "metadata": {
        "colab": {
          "base_uri": "https://localhost:8080/"
        },
        "id": "o4NIEvSnIl8k",
        "outputId": "f991ee31-056c-4ba8-f827-7e7781141579"
      },
      "source": [
        "sinascSE2 = sinasc[(sinasc.ESTCIVMAE == '1')]\n",
        "sinascSE2.IDADEMAE.mean()"
      ],
      "execution_count": 6,
      "outputs": [
        {
          "output_type": "execute_result",
          "data": {
            "text/plain": [
              "25.084033613445378"
            ]
          },
          "metadata": {
            "tags": []
          },
          "execution_count": 6
        }
      ]
    },
    {
      "cell_type": "markdown",
      "metadata": {
        "id": "deWrkeoIL3XD"
      },
      "source": [
        "**9 -** Qual a quantidade de filhos vivos das mães com até 3 anos de escolaridade tal que 25% dessa quantidade são menores (Q1)?"
      ]
    },
    {
      "cell_type": "code",
      "metadata": {
        "colab": {
          "base_uri": "https://localhost:8080/"
        },
        "id": "BlR790B3L_0i",
        "outputId": "f2b6ff33-0af2-471b-ede8-c62c289ae621"
      },
      "source": [
        "sinasc.ESCMAE = pd.to_numeric(sinasc.ESCMAE).astype(pd.Int64Dtype())\n",
        "sinasc03 = sinasc[(sinasc.ESCMAE <= 3)]\n",
        "\n",
        "sinasc03.QTDFILVIVO.quantile([0.25])"
      ],
      "execution_count": 18,
      "outputs": [
        {
          "output_type": "execute_result",
          "data": {
            "text/plain": [
              "0.25    0\n",
              "Name: QTDFILVIVO, dtype: object"
            ]
          },
          "metadata": {
            "tags": []
          },
          "execution_count": 18
        }
      ]
    },
    {
      "cell_type": "markdown",
      "metadata": {
        "id": "-jqWQ2jlO1Xy"
      },
      "source": [
        "**10 -** Qual a moda da idade das mães para as crianças que nasceram com anomalia congênita?"
      ]
    },
    {
      "cell_type": "code",
      "metadata": {
        "colab": {
          "base_uri": "https://localhost:8080/"
        },
        "id": "We_Zem4BO675",
        "outputId": "aa5b5eb0-aa2f-4086-b95b-a82e1c6ec21e"
      },
      "source": [
        "sinascAnomalia = sinasc.IDANOMAL = '1'\n",
        "sinasc.IDADEMAE.mode()"
      ],
      "execution_count": 20,
      "outputs": [
        {
          "output_type": "execute_result",
          "data": {
            "text/plain": [
              "0    22\n",
              "dtype: Int64"
            ]
          },
          "metadata": {
            "tags": []
          },
          "execution_count": 20
        }
      ]
    }
  ]
}