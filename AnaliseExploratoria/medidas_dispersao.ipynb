{
  "nbformat": 4,
  "nbformat_minor": 0,
  "metadata": {
    "colab": {
      "name": "medidas_dispersao.ipynb",
      "provenance": [],
      "collapsed_sections": []
    },
    "kernelspec": {
      "name": "python3",
      "display_name": "Python 3"
    },
    "language_info": {
      "name": "python"
    }
  },
  "cells": [
    {
      "cell_type": "code",
      "metadata": {
        "id": "yzTVSSkFj4Wy"
      },
      "source": [
        "import pandas as pd\n",
        "# trocar pelo caminho do seu drive\n",
        "caminho = '/content/drive/MyDrive/Colab Notebooks/EDA/eda_aula/res/database/data/AC/DNAC2018.csv'\n",
        "\n",
        "sinasc = pd.read_csv(caminho, dtype=str)\n",
        "\n",
        "#transformacao dos dados\n",
        "sinasc.PESO = pd.to_numeric(sinasc.PESO)\n",
        "sinasc.IDADEMAE = pd.to_numeric(sinasc.IDADEMAE).astype(pd.Int64Dtype())\n",
        "sinasc.IDADEPAI = pd.to_numeric(sinasc.IDADEPAI).astype(pd.Int64Dtype())\n",
        "sinasc.QTDFILVIVO = pd.to_numeric(sinasc.QTDFILVIVO).astype(pd.Int64Dtype())\n",
        "sinasc.QTDFILMORT = pd.to_numeric(sinasc.QTDFILMORT).astype(pd.Int64Dtype())\n",
        "sinasc.APGAR1 = pd.to_numeric(sinasc.APGAR1).astype(pd.Int64Dtype())\n",
        "sinasc.APGAR5 = pd.to_numeric(sinasc.APGAR5).astype(pd.Int64Dtype())\n",
        "sinasc.SEMAGESTAC = pd.to_numeric(sinasc.SEMAGESTAC).astype(pd.Int64Dtype())\n",
        "sinasc.CONSPRENAT = pd.to_numeric(sinasc.CONSPRENAT).astype(pd.Int64Dtype())\n",
        "sinasc.SERIESCMAE = pd.to_numeric(sinasc.SERIESCMAE).astype(pd.Int64Dtype())\n",
        "sinasc.QTDPARTCES = pd.to_numeric(sinasc.QTDPARTCES).astype(pd.Int64Dtype())\n",
        "sinasc.QTDPARTNOR = pd.to_numeric(sinasc.QTDPARTNOR).astype(pd.Int64Dtype())\n",
        "sinasc.QTDGESTANT = pd.to_numeric(sinasc.QTDGESTANT).astype(pd.Int64Dtype())\n",
        "\n",
        "esc1 =  sinasc[(sinasc['ESCMAE'] == '1') & (sinasc['LOCNASC'] == '4') & (sinasc.PARTO.notna())][['IDADEMAE']]\n",
        "esc2 =  sinasc[(sinasc['ESCMAE'] == '2') & (sinasc['LOCNASC'] == '4')][['IDADEMAE']]"
      ],
      "execution_count": null,
      "outputs": []
    },
    {
      "cell_type": "code",
      "metadata": {
        "colab": {
          "base_uri": "https://localhost:8080/",
          "height": 80
        },
        "id": "Ku0u5pe3nsXa",
        "outputId": "195835da-ba72-427b-8017-f1f6f91d05db"
      },
      "source": [
        "esc1.transpose()"
      ],
      "execution_count": null,
      "outputs": [
        {
          "output_type": "execute_result",
          "data": {
            "text/html": [
              "<div>\n",
              "<style scoped>\n",
              "    .dataframe tbody tr th:only-of-type {\n",
              "        vertical-align: middle;\n",
              "    }\n",
              "\n",
              "    .dataframe tbody tr th {\n",
              "        vertical-align: top;\n",
              "    }\n",
              "\n",
              "    .dataframe thead th {\n",
              "        text-align: right;\n",
              "    }\n",
              "</style>\n",
              "<table border=\"1\" class=\"dataframe\">\n",
              "  <thead>\n",
              "    <tr style=\"text-align: right;\">\n",
              "      <th></th>\n",
              "      <th>1955</th>\n",
              "      <th>2538</th>\n",
              "      <th>8218</th>\n",
              "      <th>10638</th>\n",
              "      <th>10796</th>\n",
              "      <th>15767</th>\n",
              "      <th>16252</th>\n",
              "    </tr>\n",
              "  </thead>\n",
              "  <tbody>\n",
              "    <tr>\n",
              "      <th>IDADEMAE</th>\n",
              "      <td>23</td>\n",
              "      <td>29</td>\n",
              "      <td>23</td>\n",
              "      <td>26</td>\n",
              "      <td>19</td>\n",
              "      <td>29</td>\n",
              "      <td>26</td>\n",
              "    </tr>\n",
              "  </tbody>\n",
              "</table>\n",
              "</div>"
            ],
            "text/plain": [
              "          1955   2538   8218   10638  10796  15767  16252\n",
              "IDADEMAE     23     29     23     26     19     29     26"
            ]
          },
          "metadata": {
            "tags": []
          },
          "execution_count": 8
        }
      ]
    },
    {
      "cell_type": "code",
      "metadata": {
        "colab": {
          "base_uri": "https://localhost:8080/"
        },
        "id": "43wjRKt2nWa2",
        "outputId": "5c2a8134-d3ee-4c87-c305-0738d2a2e4b1"
      },
      "source": [
        "m1 = esc1.mean()\n",
        "m1"
      ],
      "execution_count": null,
      "outputs": [
        {
          "output_type": "execute_result",
          "data": {
            "text/plain": [
              "IDADEMAE    25.0\n",
              "dtype: float64"
            ]
          },
          "metadata": {
            "tags": []
          },
          "execution_count": 5
        }
      ]
    },
    {
      "cell_type": "code",
      "metadata": {
        "colab": {
          "base_uri": "https://localhost:8080/",
          "height": 80
        },
        "id": "FFAxtpgAnzzl",
        "outputId": "0c466e81-5fac-4985-ac44-651a9e928769"
      },
      "source": [
        "esc2.transpose()"
      ],
      "execution_count": null,
      "outputs": [
        {
          "output_type": "execute_result",
          "data": {
            "text/html": [
              "<div>\n",
              "<style scoped>\n",
              "    .dataframe tbody tr th:only-of-type {\n",
              "        vertical-align: middle;\n",
              "    }\n",
              "\n",
              "    .dataframe tbody tr th {\n",
              "        vertical-align: top;\n",
              "    }\n",
              "\n",
              "    .dataframe thead th {\n",
              "        text-align: right;\n",
              "    }\n",
              "</style>\n",
              "<table border=\"1\" class=\"dataframe\">\n",
              "  <thead>\n",
              "    <tr style=\"text-align: right;\">\n",
              "      <th></th>\n",
              "      <th>2367</th>\n",
              "      <th>6276</th>\n",
              "      <th>7274</th>\n",
              "      <th>7289</th>\n",
              "      <th>8211</th>\n",
              "      <th>8221</th>\n",
              "      <th>8230</th>\n",
              "      <th>9105</th>\n",
              "      <th>10371</th>\n",
              "      <th>10545</th>\n",
              "      <th>10609</th>\n",
              "    </tr>\n",
              "  </thead>\n",
              "  <tbody>\n",
              "    <tr>\n",
              "      <th>IDADEMAE</th>\n",
              "      <td>23</td>\n",
              "      <td>37</td>\n",
              "      <td>25</td>\n",
              "      <td>29</td>\n",
              "      <td>17</td>\n",
              "      <td>17</td>\n",
              "      <td>26</td>\n",
              "      <td>18</td>\n",
              "      <td>16</td>\n",
              "      <td>34</td>\n",
              "      <td>29</td>\n",
              "    </tr>\n",
              "  </tbody>\n",
              "</table>\n",
              "</div>"
            ],
            "text/plain": [
              "          2367   6276   7274   7289   8211   ...  8230   9105   10371  10545  10609\n",
              "IDADEMAE     23     37     25     29     17  ...     26     18     16     34     29\n",
              "\n",
              "[1 rows x 11 columns]"
            ]
          },
          "metadata": {
            "tags": []
          },
          "execution_count": 10
        }
      ]
    },
    {
      "cell_type": "code",
      "metadata": {
        "colab": {
          "base_uri": "https://localhost:8080/"
        },
        "id": "O71g6GtqngpO",
        "outputId": "d3727bdb-100a-4b22-c6f4-40f5c41c6946"
      },
      "source": [
        "m2 = esc2.mean()\n",
        "m2"
      ],
      "execution_count": null,
      "outputs": [
        {
          "output_type": "execute_result",
          "data": {
            "text/plain": [
              "IDADEMAE    24.636364\n",
              "dtype: float64"
            ]
          },
          "metadata": {
            "tags": []
          },
          "execution_count": 6
        }
      ]
    },
    {
      "cell_type": "code",
      "metadata": {
        "colab": {
          "base_uri": "https://localhost:8080/"
        },
        "id": "l-RjlUPSokeL",
        "outputId": "c009856a-b6e6-4143-a38b-988bc32cf3e2"
      },
      "source": [
        "# calcular o desvio médio absoluto com python e pandas\n",
        "# df.mad()\n",
        "dm1 = esc1.mad()\n",
        "dm2 = esc2.mad()\n",
        "print(dm1)\n",
        "print(dm2)"
      ],
      "execution_count": null,
      "outputs": [
        {
          "output_type": "stream",
          "text": [
            "IDADEMAE    2.857143\n",
            "dtype: float64\n",
            "IDADEMAE    5.85124\n",
            "dtype: float64\n"
          ],
          "name": "stdout"
        }
      ]
    },
    {
      "cell_type": "code",
      "metadata": {
        "colab": {
          "base_uri": "https://localhost:8080/"
        },
        "id": "Nb8oWpH0qWJ3",
        "outputId": "f9d0bd66-fee7-4455-c48b-a9916485a48e"
      },
      "source": [
        "# calcular o variância com python e pandas\n",
        "vara_1 = esc1.var(ddof=1)\n",
        "vara_2 = esc2.var(ddof=1)\n",
        "varp_1 = esc1.var(ddof=0) \n",
        "varp_2 = esc2.var(ddof=0)\n",
        "print(vara_1)\n",
        "print(vara_2)\n",
        "print(varp_1)\n",
        "print(varp_2)"
      ],
      "execution_count": null,
      "outputs": [
        {
          "output_type": "stream",
          "text": [
            "IDADEMAE    13.0\n",
            "dtype: float64\n",
            "IDADEMAE    51.854545\n",
            "dtype: float64\n",
            "IDADEMAE    11.142857\n",
            "dtype: float64\n",
            "IDADEMAE    47.140496\n",
            "dtype: float64\n"
          ],
          "name": "stdout"
        }
      ]
    },
    {
      "cell_type": "code",
      "metadata": {
        "colab": {
          "base_uri": "https://localhost:8080/"
        },
        "id": "s6kSEWR9tGwr",
        "outputId": "717146a7-611b-4749-a1b1-e8fd5afff4ff"
      },
      "source": [
        "# desvio padrão com python e pandas\n",
        "dpa_1 = esc1.std(ddof=1)\n",
        "dpa_2 = esc2.std(ddof=1)\n",
        "dpp_1 = esc1.std(ddof=0)\n",
        "dpp_2 = esc2.std(ddof=0)\n",
        "print(dpa_1)\n",
        "print(dpa_2)\n",
        "print(dpp_1)\n",
        "print(dpp_2)"
      ],
      "execution_count": null,
      "outputs": [
        {
          "output_type": "stream",
          "text": [
            "IDADEMAE    3.605551\n",
            "dtype: float64\n",
            "IDADEMAE    7.20101\n",
            "dtype: float64\n",
            "IDADEMAE    3.338092\n",
            "dtype: float64\n",
            "IDADEMAE    6.865894\n",
            "dtype: float64\n"
          ],
          "name": "stdout"
        }
      ]
    },
    {
      "cell_type": "markdown",
      "metadata": {
        "id": "GfWgyxOxvd1T"
      },
      "source": [
        "Amplitude interquartil"
      ]
    },
    {
      "cell_type": "code",
      "metadata": {
        "colab": {
          "base_uri": "https://localhost:8080/"
        },
        "id": "UrWPwjdqvAIz",
        "outputId": "0bd6ed31-115b-43ec-cd1a-22abf85f2a92"
      },
      "source": [
        "q_esc1 = esc1.quantile([0.25, 0.75]).values\n",
        "q_esc1"
      ],
      "execution_count": null,
      "outputs": [
        {
          "output_type": "execute_result",
          "data": {
            "text/plain": [
              "array([[23.0],\n",
              "       [27.5]], dtype=object)"
            ]
          },
          "metadata": {
            "tags": []
          },
          "execution_count": 31
        }
      ]
    },
    {
      "cell_type": "code",
      "metadata": {
        "colab": {
          "base_uri": "https://localhost:8080/"
        },
        "id": "6StddhLmvpjs",
        "outputId": "82fb46da-917a-45fa-a3a6-118428707ad5"
      },
      "source": [
        "iqr_1 = q_esc1[1]-q_esc1[0]\n",
        "iqr_1"
      ],
      "execution_count": null,
      "outputs": [
        {
          "output_type": "execute_result",
          "data": {
            "text/plain": [
              "array([4.5], dtype=object)"
            ]
          },
          "metadata": {
            "tags": []
          },
          "execution_count": 32
        }
      ]
    },
    {
      "cell_type": "code",
      "metadata": {
        "colab": {
          "base_uri": "https://localhost:8080/"
        },
        "id": "C032IT8JvMy0",
        "outputId": "0f35f198-3db6-4430-a3a8-f9b5433f5814"
      },
      "source": [
        "q_esc2 = esc2.quantile([0.25, 0.75]).values\n",
        "q_esc2"
      ],
      "execution_count": null,
      "outputs": [
        {
          "output_type": "execute_result",
          "data": {
            "text/plain": [
              "array([[17.5],\n",
              "       [29.0]], dtype=object)"
            ]
          },
          "metadata": {
            "tags": []
          },
          "execution_count": 19
        }
      ]
    },
    {
      "cell_type": "code",
      "metadata": {
        "colab": {
          "base_uri": "https://localhost:8080/"
        },
        "id": "M5YuykeMv4CT",
        "outputId": "8a86abcd-f46f-4bcb-c999-04b89e856f45"
      },
      "source": [
        "iqr_2 = q_esc2[1]-q_esc2[0]\n",
        "iqr_2"
      ],
      "execution_count": null,
      "outputs": [
        {
          "output_type": "execute_result",
          "data": {
            "text/plain": [
              "array([11.5], dtype=object)"
            ]
          },
          "metadata": {
            "tags": []
          },
          "execution_count": 21
        }
      ]
    },
    {
      "cell_type": "code",
      "metadata": {
        "colab": {
          "base_uri": "https://localhost:8080/"
        },
        "id": "0UGtLJNvxSFt",
        "outputId": "d0fe48d5-0167-4862-d080-de9d27f0da07"
      },
      "source": [
        "(esc1.std(ddof=0)/esc1.mean())*100"
      ],
      "execution_count": null,
      "outputs": [
        {
          "output_type": "execute_result",
          "data": {
            "text/plain": [
              "IDADEMAE    13.352367\n",
              "dtype: float64"
            ]
          },
          "metadata": {
            "tags": []
          },
          "execution_count": 33
        }
      ]
    },
    {
      "cell_type": "code",
      "metadata": {
        "colab": {
          "base_uri": "https://localhost:8080/"
        },
        "id": "RAcKM6Q8xgex",
        "outputId": "8a5525ff-1944-40da-cb80-677b4139ef24"
      },
      "source": [
        "(esc2.std(ddof=0)/esc2.mean())*100"
      ],
      "execution_count": null,
      "outputs": [
        {
          "output_type": "execute_result",
          "data": {
            "text/plain": [
              "IDADEMAE    27.868941\n",
              "dtype: float64"
            ]
          },
          "metadata": {
            "tags": []
          },
          "execution_count": 34
        }
      ]
    },
    {
      "cell_type": "code",
      "metadata": {
        "id": "euaXJPpT-5h9"
      },
      "source": [
        "caminho_arquivo = '/content/drive/MyDrive/Colab Notebooks/EDA/eda_aula/res/database/data/SE/DNSE2017.csv'\n",
        "\n",
        "# ler arquivo DBC dos nascidos vivos em 2017 em SE\n",
        "sinasc = pd.read_csv(caminho_arquivo, dtype=str)"
      ],
      "execution_count": null,
      "outputs": []
    },
    {
      "cell_type": "code",
      "metadata": {
        "id": "f9t4Y1ay_EdA"
      },
      "source": [
        "sinasc['PESO'] = pd.to_numeric(sinasc['PESO'])\n",
        "sinasc['IDADEMAE'] = pd.to_numeric(sinasc['IDADEMAE'])\n",
        "sinasc['IDADEPAI'] = pd.to_numeric(sinasc['IDADEPAI'])\n",
        "sinasc['APGAR1'] = pd.to_numeric(sinasc['APGAR1'])\n",
        "sinasc['APGAR5'] = pd.to_numeric(sinasc['APGAR5'])\n",
        "\n",
        "sinasc['QTDFILVIVO'] = pd.to_numeric(sinasc['QTDFILVIVO']).astype(pd.Int64Dtype())\n",
        "sinasc['QTDFILMORT'] = pd.to_numeric(sinasc['QTDFILMORT']).astype(pd.Int64Dtype())\n",
        "sinasc['SEMAGESTAC'] = pd.to_numeric(sinasc['SEMAGESTAC']).astype(pd.Int64Dtype())\n",
        "sinasc['CONSPRENAT'] = pd.to_numeric(sinasc['CONSPRENAT']).astype(pd.Int64Dtype())\n",
        "sinasc['SERIESCMAE'] = pd.to_numeric(sinasc['SERIESCMAE']).astype(pd.Int64Dtype())\n",
        "sinasc['QTDPARTCES'] = pd.to_numeric(sinasc['QTDPARTCES']).astype(pd.Int64Dtype())\n",
        "sinasc['QTDPARTNOR'] = pd.to_numeric(sinasc['QTDPARTNOR']).astype(pd.Int64Dtype())\n",
        "sinasc['QTDGESTANT'] = pd.to_numeric(sinasc['QTDGESTANT']).astype(pd.Int64Dtype())\n"
      ],
      "execution_count": null,
      "outputs": []
    },
    {
      "cell_type": "code",
      "metadata": {
        "id": "QtiZaGHrDXNF"
      },
      "source": [
        "# filtro de mães que fizeram parto normal\n",
        "normal = sinasc[sinasc.PARTO == '1']\n",
        "#filtro de parto cesárea\n",
        "cesarea = sinasc[sinasc.PARTO == '2']"
      ],
      "execution_count": null,
      "outputs": []
    },
    {
      "cell_type": "code",
      "metadata": {
        "colab": {
          "base_uri": "https://localhost:8080/"
        },
        "id": "Lh8i1hhWD4Tl",
        "outputId": "54af59fe-e982-40ce-dbd2-f53063d95e0e"
      },
      "source": [
        "# média\n",
        "media_normal = normal.IDADEMAE.mean()\n",
        "media_cesarea = cesarea.IDADEMAE.mean()\n",
        "media_normal, media_cesarea"
      ],
      "execution_count": null,
      "outputs": [
        {
          "output_type": "execute_result",
          "data": {
            "text/plain": [
              "(24.98357030015798, 27.634743425919698)"
            ]
          },
          "metadata": {
            "tags": []
          },
          "execution_count": 45
        }
      ]
    },
    {
      "cell_type": "code",
      "metadata": {
        "colab": {
          "base_uri": "https://localhost:8080/"
        },
        "id": "VyvdEzitEYgR",
        "outputId": "a5d6af27-45d3-4068-ae64-15df6e306ad2"
      },
      "source": [
        "# desvio padrao\n",
        "dp_normal = normal.IDADEMAE.std()\n",
        "dp_cesarea = cesarea.IDADEMAE.std()\n",
        "dp_normal, dp_cesarea"
      ],
      "execution_count": null,
      "outputs": [
        {
          "output_type": "execute_result",
          "data": {
            "text/plain": [
              "(6.7131238327425935, 6.732200555321305)"
            ]
          },
          "metadata": {
            "tags": []
          },
          "execution_count": 46
        }
      ]
    },
    {
      "cell_type": "code",
      "metadata": {
        "colab": {
          "base_uri": "https://localhost:8080/"
        },
        "id": "mbNSadIFEpx-",
        "outputId": "28af0646-cbc8-4d7d-a273-4b894dafa826"
      },
      "source": [
        "# Intervalo inter-quartil\n",
        "q_normal = normal.IDADEMAE.quantile([0.25, 0.75]).values\n",
        "q_cesarea = cesarea.IDADEMAE.quantile([0.25, 0.75]).values\n",
        "\n",
        "q_normal[1]-q_normal[0], q_cesarea[1]-q_cesarea[0]\n"
      ],
      "execution_count": null,
      "outputs": [
        {
          "output_type": "execute_result",
          "data": {
            "text/plain": [
              "(10.0, 11.0)"
            ]
          },
          "metadata": {
            "tags": []
          },
          "execution_count": 52
        }
      ]
    },
    {
      "cell_type": "code",
      "metadata": {
        "colab": {
          "base_uri": "https://localhost:8080/"
        },
        "id": "FJqPNMQBFm9D",
        "outputId": "1e3cdf48-fedc-4365-b082-ee18056d6fc2"
      },
      "source": [
        "# coeficiente de variacao\n",
        "dp_normal*100/media_normal, dp_cesarea*100/media_cesarea"
      ],
      "execution_count": null,
      "outputs": [
        {
          "output_type": "execute_result",
          "data": {
            "text/plain": [
              "(26.870154073615907, 24.361364430135843)"
            ]
          },
          "metadata": {
            "tags": []
          },
          "execution_count": 53
        }
      ]
    },
    {
      "cell_type": "code",
      "metadata": {
        "colab": {
          "base_uri": "https://localhost:8080/"
        },
        "id": "RA9aD3S8F-Md",
        "outputId": "8eda4ed4-8b3b-4c0c-b226-3ac641625e45"
      },
      "source": [
        "normal.PESO.mean(), cesarea.PESO.mean()"
      ],
      "execution_count": null,
      "outputs": [
        {
          "output_type": "execute_result",
          "data": {
            "text/plain": [
              "(3192.6047932578354, 3262.2962539511736)"
            ]
          },
          "metadata": {
            "tags": []
          },
          "execution_count": 54
        }
      ]
    },
    {
      "cell_type": "code",
      "metadata": {
        "colab": {
          "base_uri": "https://localhost:8080/"
        },
        "id": "SGaAkM5GGKg2",
        "outputId": "b1bc5629-cf87-4ab5-d732-ef3a86db8027"
      },
      "source": [
        "normal.PESO.std(), cesarea.PESO.std()"
      ],
      "execution_count": null,
      "outputs": [
        {
          "output_type": "execute_result",
          "data": {
            "text/plain": [
              "(555.2919465469533, 598.5973542998237)"
            ]
          },
          "metadata": {
            "tags": []
          },
          "execution_count": 55
        }
      ]
    },
    {
      "cell_type": "code",
      "metadata": {
        "id": "deaSYmMwGZGS"
      },
      "source": [
        "pre_natal_0 = sinasc[sinasc.CONSULTAS == '1']\n",
        "pre_natal_1_3 = sinasc[sinasc.CONSULTAS == '2']\n",
        "pre_natal_4_6 = sinasc[sinasc.CONSULTAS == '3']\n",
        "pre_natal_7 = sinasc[sinasc.CONSULTAS == '4']"
      ],
      "execution_count": null,
      "outputs": []
    },
    {
      "cell_type": "code",
      "metadata": {
        "colab": {
          "base_uri": "https://localhost:8080/"
        },
        "id": "48249kAUGx0h",
        "outputId": "48642147-a582-4e12-a4c7-1f7e55c39dd6"
      },
      "source": [
        "pre_natal_0.PESO.mean(), pre_natal_1_3.PESO.mean(), pre_natal_4_6.PESO.mean(), pre_natal_7.PESO.mean()"
      ],
      "execution_count": null,
      "outputs": [
        {
          "output_type": "execute_result",
          "data": {
            "text/plain": [
              "(3085.7057142857143, 3022.836124401914, 3166.4481224417154, 3295.601250066211)"
            ]
          },
          "metadata": {
            "tags": []
          },
          "execution_count": 59
        }
      ]
    },
    {
      "cell_type": "code",
      "metadata": {
        "colab": {
          "base_uri": "https://localhost:8080/"
        },
        "id": "IxBc6fpsHJLg",
        "outputId": "7161a008-5aa3-41db-d448-3e520b0e8fb0"
      },
      "source": [
        "pre_natal_0.PESO.std(), pre_natal_1_3.PESO.std(), pre_natal_4_6.PESO.std(), pre_natal_7.PESO.std()"
      ],
      "execution_count": null,
      "outputs": [
        {
          "output_type": "execute_result",
          "data": {
            "text/plain": [
              "(676.3215285616058, 765.4774563785681, 600.6850101167469, 500.74534594318817)"
            ]
          },
          "metadata": {
            "tags": []
          },
          "execution_count": 60
        }
      ]
    },
    {
      "cell_type": "markdown",
      "metadata": {
        "id": "jGz-HMFdI5ZV"
      },
      "source": [
        "Distribuição de frequência"
      ]
    },
    {
      "cell_type": "code",
      "metadata": {
        "colab": {
          "base_uri": "https://localhost:8080/"
        },
        "id": "ykTnMno1I9Hn",
        "outputId": "1e7324d9-3b61-49e8-c42b-b4a28f3e13ac"
      },
      "source": [
        "sinasc.IDADEMAE"
      ],
      "execution_count": null,
      "outputs": [
        {
          "output_type": "execute_result",
          "data": {
            "text/plain": [
              "0        28\n",
              "1        39\n",
              "2        33\n",
              "3        35\n",
              "4        21\n",
              "         ..\n",
              "16538    32\n",
              "16539    37\n",
              "16540    37\n",
              "16541    37\n",
              "16542    27\n",
              "Name: IDADEMAE, Length: 16543, dtype: Int64"
            ]
          },
          "metadata": {
            "tags": []
          },
          "execution_count": 64
        }
      ]
    },
    {
      "cell_type": "code",
      "metadata": {
        "colab": {
          "base_uri": "https://localhost:8080/"
        },
        "id": "eJ469pkCJJoB",
        "outputId": "c317b25d-4835-4a62-8905-867fe710db7e"
      },
      "source": [
        "intervalos = pd.cut(sinasc.IDADEMAE,[0, 9, 14, 19, 24, 29, 34, 39, 44, 49, 54, 59])\n",
        "intervalos"
      ],
      "execution_count": null,
      "outputs": [
        {
          "output_type": "execute_result",
          "data": {
            "text/plain": [
              "0        (24, 29]\n",
              "1        (34, 39]\n",
              "2        (29, 34]\n",
              "3        (34, 39]\n",
              "4        (19, 24]\n",
              "           ...   \n",
              "16538    (29, 34]\n",
              "16539    (34, 39]\n",
              "16540    (34, 39]\n",
              "16541    (34, 39]\n",
              "16542    (24, 29]\n",
              "Name: IDADEMAE, Length: 16543, dtype: category\n",
              "Categories (11, interval[int64]): [(0, 9] < (9, 14] < (14, 19] < (19, 24] ... (39, 44] < (44, 49] <\n",
              "                                   (49, 54] < (54, 59]]"
            ]
          },
          "metadata": {
            "tags": []
          },
          "execution_count": 66
        }
      ]
    },
    {
      "cell_type": "code",
      "metadata": {
        "colab": {
          "base_uri": "https://localhost:8080/"
        },
        "id": "k77_kVZDJwWi",
        "outputId": "7e2861b9-99a8-4917-dad8-b74da9df988c"
      },
      "source": [
        "faixa_etaria = sinasc.IDADEMAE.groupby(intervalos)\n",
        "faixa_etaria"
      ],
      "execution_count": null,
      "outputs": [
        {
          "output_type": "execute_result",
          "data": {
            "text/plain": [
              "<pandas.core.groupby.generic.SeriesGroupBy object at 0x7f83e25c3690>"
            ]
          },
          "metadata": {
            "tags": []
          },
          "execution_count": 67
        }
      ]
    },
    {
      "cell_type": "code",
      "metadata": {
        "colab": {
          "base_uri": "https://localhost:8080/",
          "height": 423
        },
        "id": "m_AbRwDHKL0a",
        "outputId": "49727611-5915-4244-82c5-606fd90aa091"
      },
      "source": [
        "# frequência absoluta\n",
        "dist_faixa_etaria = faixa_etaria.agg(['count'])\n",
        "# SELECT AVERAGE(1), FAIXA_ETARIA FROM SINASC GROUP BY FAIXA_ETARIA\n",
        "dist_faixa_etaria"
      ],
      "execution_count": null,
      "outputs": [
        {
          "output_type": "execute_result",
          "data": {
            "text/html": [
              "<div>\n",
              "<style scoped>\n",
              "    .dataframe tbody tr th:only-of-type {\n",
              "        vertical-align: middle;\n",
              "    }\n",
              "\n",
              "    .dataframe tbody tr th {\n",
              "        vertical-align: top;\n",
              "    }\n",
              "\n",
              "    .dataframe thead th {\n",
              "        text-align: right;\n",
              "    }\n",
              "</style>\n",
              "<table border=\"1\" class=\"dataframe\">\n",
              "  <thead>\n",
              "    <tr style=\"text-align: right;\">\n",
              "      <th></th>\n",
              "      <th>count</th>\n",
              "    </tr>\n",
              "    <tr>\n",
              "      <th>IDADEMAE</th>\n",
              "      <th></th>\n",
              "    </tr>\n",
              "  </thead>\n",
              "  <tbody>\n",
              "    <tr>\n",
              "      <th>(0, 9]</th>\n",
              "      <td>0</td>\n",
              "    </tr>\n",
              "    <tr>\n",
              "      <th>(9, 14]</th>\n",
              "      <td>297</td>\n",
              "    </tr>\n",
              "    <tr>\n",
              "      <th>(14, 19]</th>\n",
              "      <td>3832</td>\n",
              "    </tr>\n",
              "    <tr>\n",
              "      <th>(19, 24]</th>\n",
              "      <td>4300</td>\n",
              "    </tr>\n",
              "    <tr>\n",
              "      <th>(24, 29]</th>\n",
              "      <td>3498</td>\n",
              "    </tr>\n",
              "    <tr>\n",
              "      <th>(29, 34]</th>\n",
              "      <td>2602</td>\n",
              "    </tr>\n",
              "    <tr>\n",
              "      <th>(34, 39]</th>\n",
              "      <td>1581</td>\n",
              "    </tr>\n",
              "    <tr>\n",
              "      <th>(39, 44]</th>\n",
              "      <td>392</td>\n",
              "    </tr>\n",
              "    <tr>\n",
              "      <th>(44, 49]</th>\n",
              "      <td>35</td>\n",
              "    </tr>\n",
              "    <tr>\n",
              "      <th>(49, 54]</th>\n",
              "      <td>1</td>\n",
              "    </tr>\n",
              "    <tr>\n",
              "      <th>(54, 59]</th>\n",
              "      <td>1</td>\n",
              "    </tr>\n",
              "  </tbody>\n",
              "</table>\n",
              "</div>"
            ],
            "text/plain": [
              "          count\n",
              "IDADEMAE       \n",
              "(0, 9]        0\n",
              "(9, 14]     297\n",
              "(14, 19]   3832\n",
              "(19, 24]   4300\n",
              "(24, 29]   3498\n",
              "(29, 34]   2602\n",
              "(34, 39]   1581\n",
              "(39, 44]    392\n",
              "(44, 49]     35\n",
              "(49, 54]      1\n",
              "(54, 59]      1"
            ]
          },
          "metadata": {
            "tags": []
          },
          "execution_count": 80
        }
      ]
    },
    {
      "cell_type": "code",
      "metadata": {
        "colab": {
          "base_uri": "https://localhost:8080/",
          "height": 423
        },
        "id": "wcoXTgDrMPk7",
        "outputId": "893777e2-1c0b-4b21-abd2-113ab5c11e61"
      },
      "source": [
        "# frequência relativa\n",
        "# def freq_rel(x):\n",
        "#   return x.count()/sinasc.IDADEMAE.count()\n",
        "\n",
        "freq_rel = lambda x: x.count()/sinasc.IDADEMAE.count()\n",
        "\n",
        "dist_faixa_etaria = faixa_etaria.agg(['count',freq_rel])\n",
        "dist_faixa_etaria"
      ],
      "execution_count": null,
      "outputs": [
        {
          "output_type": "execute_result",
          "data": {
            "text/html": [
              "<div>\n",
              "<style scoped>\n",
              "    .dataframe tbody tr th:only-of-type {\n",
              "        vertical-align: middle;\n",
              "    }\n",
              "\n",
              "    .dataframe tbody tr th {\n",
              "        vertical-align: top;\n",
              "    }\n",
              "\n",
              "    .dataframe thead th {\n",
              "        text-align: right;\n",
              "    }\n",
              "</style>\n",
              "<table border=\"1\" class=\"dataframe\">\n",
              "  <thead>\n",
              "    <tr style=\"text-align: right;\">\n",
              "      <th></th>\n",
              "      <th>count</th>\n",
              "      <th>&lt;lambda_0&gt;</th>\n",
              "    </tr>\n",
              "    <tr>\n",
              "      <th>IDADEMAE</th>\n",
              "      <th></th>\n",
              "      <th></th>\n",
              "    </tr>\n",
              "  </thead>\n",
              "  <tbody>\n",
              "    <tr>\n",
              "      <th>(0, 9]</th>\n",
              "      <td>0</td>\n",
              "      <td>0.000000</td>\n",
              "    </tr>\n",
              "    <tr>\n",
              "      <th>(9, 14]</th>\n",
              "      <td>297</td>\n",
              "      <td>0.017958</td>\n",
              "    </tr>\n",
              "    <tr>\n",
              "      <th>(14, 19]</th>\n",
              "      <td>3832</td>\n",
              "      <td>0.231695</td>\n",
              "    </tr>\n",
              "    <tr>\n",
              "      <th>(19, 24]</th>\n",
              "      <td>4300</td>\n",
              "      <td>0.259992</td>\n",
              "    </tr>\n",
              "    <tr>\n",
              "      <th>(24, 29]</th>\n",
              "      <td>3498</td>\n",
              "      <td>0.211500</td>\n",
              "    </tr>\n",
              "    <tr>\n",
              "      <th>(29, 34]</th>\n",
              "      <td>2602</td>\n",
              "      <td>0.157325</td>\n",
              "    </tr>\n",
              "    <tr>\n",
              "      <th>(34, 39]</th>\n",
              "      <td>1581</td>\n",
              "      <td>0.095592</td>\n",
              "    </tr>\n",
              "    <tr>\n",
              "      <th>(39, 44]</th>\n",
              "      <td>392</td>\n",
              "      <td>0.023702</td>\n",
              "    </tr>\n",
              "    <tr>\n",
              "      <th>(44, 49]</th>\n",
              "      <td>35</td>\n",
              "      <td>0.002116</td>\n",
              "    </tr>\n",
              "    <tr>\n",
              "      <th>(49, 54]</th>\n",
              "      <td>1</td>\n",
              "      <td>0.000060</td>\n",
              "    </tr>\n",
              "    <tr>\n",
              "      <th>(54, 59]</th>\n",
              "      <td>1</td>\n",
              "      <td>0.000060</td>\n",
              "    </tr>\n",
              "  </tbody>\n",
              "</table>\n",
              "</div>"
            ],
            "text/plain": [
              "          count  <lambda_0>\n",
              "IDADEMAE                   \n",
              "(0, 9]        0    0.000000\n",
              "(9, 14]     297    0.017958\n",
              "(14, 19]   3832    0.231695\n",
              "(19, 24]   4300    0.259992\n",
              "(24, 29]   3498    0.211500\n",
              "(29, 34]   2602    0.157325\n",
              "(34, 39]   1581    0.095592\n",
              "(39, 44]    392    0.023702\n",
              "(44, 49]     35    0.002116\n",
              "(49, 54]      1    0.000060\n",
              "(54, 59]      1    0.000060"
            ]
          },
          "metadata": {
            "tags": []
          },
          "execution_count": 84
        }
      ]
    },
    {
      "cell_type": "code",
      "metadata": {
        "colab": {
          "base_uri": "https://localhost:8080/",
          "height": 420
        },
        "id": "adUSrN4BN6Pz",
        "outputId": "99f70cc7-f924-41cf-e90e-dac9cedbd7f4"
      },
      "source": [
        "# freq percentual\n",
        "freq_p = lambda x: x.count()*100/sinasc.IDADEMAE.count()\n",
        "\n",
        "dist_faixa_etaria = faixa_etaria.agg(['count',freq_rel, freq_p])\n",
        "dist_faixa_etaria"
      ],
      "execution_count": null,
      "outputs": [
        {
          "output_type": "execute_result",
          "data": {
            "text/html": [
              "<div>\n",
              "<style scoped>\n",
              "    .dataframe tbody tr th:only-of-type {\n",
              "        vertical-align: middle;\n",
              "    }\n",
              "\n",
              "    .dataframe tbody tr th {\n",
              "        vertical-align: top;\n",
              "    }\n",
              "\n",
              "    .dataframe thead th {\n",
              "        text-align: right;\n",
              "    }\n",
              "</style>\n",
              "<table border=\"1\" class=\"dataframe\">\n",
              "  <thead>\n",
              "    <tr style=\"text-align: right;\">\n",
              "      <th></th>\n",
              "      <th>count</th>\n",
              "      <th>&lt;lambda_0&gt;</th>\n",
              "      <th>&lt;lambda_1&gt;</th>\n",
              "    </tr>\n",
              "    <tr>\n",
              "      <th>IDADEMAE</th>\n",
              "      <th></th>\n",
              "      <th></th>\n",
              "      <th></th>\n",
              "    </tr>\n",
              "  </thead>\n",
              "  <tbody>\n",
              "    <tr>\n",
              "      <th>(0, 9]</th>\n",
              "      <td>0</td>\n",
              "      <td>0.000000</td>\n",
              "      <td>0.000000</td>\n",
              "    </tr>\n",
              "    <tr>\n",
              "      <th>(9, 14]</th>\n",
              "      <td>297</td>\n",
              "      <td>0.017958</td>\n",
              "      <td>1.795755</td>\n",
              "    </tr>\n",
              "    <tr>\n",
              "      <th>(14, 19]</th>\n",
              "      <td>3832</td>\n",
              "      <td>0.231695</td>\n",
              "      <td>23.169478</td>\n",
              "    </tr>\n",
              "    <tr>\n",
              "      <th>(19, 24]</th>\n",
              "      <td>4300</td>\n",
              "      <td>0.259992</td>\n",
              "      <td>25.999154</td>\n",
              "    </tr>\n",
              "    <tr>\n",
              "      <th>(24, 29]</th>\n",
              "      <td>3498</td>\n",
              "      <td>0.211500</td>\n",
              "      <td>21.150009</td>\n",
              "    </tr>\n",
              "    <tr>\n",
              "      <th>(29, 34]</th>\n",
              "      <td>2602</td>\n",
              "      <td>0.157325</td>\n",
              "      <td>15.732511</td>\n",
              "    </tr>\n",
              "    <tr>\n",
              "      <th>(34, 39]</th>\n",
              "      <td>1581</td>\n",
              "      <td>0.095592</td>\n",
              "      <td>9.559224</td>\n",
              "    </tr>\n",
              "    <tr>\n",
              "      <th>(39, 44]</th>\n",
              "      <td>392</td>\n",
              "      <td>0.023702</td>\n",
              "      <td>2.370155</td>\n",
              "    </tr>\n",
              "    <tr>\n",
              "      <th>(44, 49]</th>\n",
              "      <td>35</td>\n",
              "      <td>0.002116</td>\n",
              "      <td>0.211621</td>\n",
              "    </tr>\n",
              "    <tr>\n",
              "      <th>(49, 54]</th>\n",
              "      <td>1</td>\n",
              "      <td>0.000060</td>\n",
              "      <td>0.006046</td>\n",
              "    </tr>\n",
              "    <tr>\n",
              "      <th>(54, 59]</th>\n",
              "      <td>1</td>\n",
              "      <td>0.000060</td>\n",
              "      <td>0.006046</td>\n",
              "    </tr>\n",
              "  </tbody>\n",
              "</table>\n",
              "</div>"
            ],
            "text/plain": [
              "          count  <lambda_0>  <lambda_1>\n",
              "IDADEMAE                               \n",
              "(0, 9]        0    0.000000    0.000000\n",
              "(9, 14]     297    0.017958    1.795755\n",
              "(14, 19]   3832    0.231695   23.169478\n",
              "(19, 24]   4300    0.259992   25.999154\n",
              "(24, 29]   3498    0.211500   21.150009\n",
              "(29, 34]   2602    0.157325   15.732511\n",
              "(34, 39]   1581    0.095592    9.559224\n",
              "(39, 44]    392    0.023702    2.370155\n",
              "(44, 49]     35    0.002116    0.211621\n",
              "(49, 54]      1    0.000060    0.006046\n",
              "(54, 59]      1    0.000060    0.006046"
            ]
          },
          "metadata": {
            "tags": []
          },
          "execution_count": 85
        }
      ]
    },
    {
      "cell_type": "code",
      "metadata": {
        "colab": {
          "base_uri": "https://localhost:8080/"
        },
        "id": "CBV8pkY9O4jx",
        "outputId": "1630decb-9ee9-461c-b41c-ffb8e67c1f18"
      },
      "source": [
        "# frequência acumulada absoluta\n",
        "faixa_etaria.count().cumsum()"
      ],
      "execution_count": null,
      "outputs": [
        {
          "output_type": "execute_result",
          "data": {
            "text/plain": [
              "IDADEMAE\n",
              "(0, 9]          0\n",
              "(9, 14]       297\n",
              "(14, 19]     4129\n",
              "(19, 24]     8429\n",
              "(24, 29]    11927\n",
              "(29, 34]    14529\n",
              "(34, 39]    16110\n",
              "(39, 44]    16502\n",
              "(44, 49]    16537\n",
              "(49, 54]    16538\n",
              "(54, 59]    16539\n",
              "Name: IDADEMAE, dtype: int64"
            ]
          },
          "metadata": {
            "tags": []
          },
          "execution_count": 88
        }
      ]
    },
    {
      "cell_type": "code",
      "metadata": {
        "colab": {
          "base_uri": "https://localhost:8080/"
        },
        "id": "DgRlWAa2PJA_",
        "outputId": "66737334-a77b-4ae8-afb7-9409203436c1"
      },
      "source": [
        "# frequência acumulada relativa\n",
        "faixa_etaria.count().cumsum()/sinasc.IDADEMAE.count()"
      ],
      "execution_count": null,
      "outputs": [
        {
          "output_type": "execute_result",
          "data": {
            "text/plain": [
              "IDADEMAE\n",
              "(0, 9]      0.000000\n",
              "(9, 14]     0.017958\n",
              "(14, 19]    0.249652\n",
              "(19, 24]    0.509644\n",
              "(24, 29]    0.721144\n",
              "(29, 34]    0.878469\n",
              "(34, 39]    0.974061\n",
              "(39, 44]    0.997763\n",
              "(44, 49]    0.999879\n",
              "(49, 54]    0.999940\n",
              "(54, 59]    1.000000\n",
              "Name: IDADEMAE, dtype: float64"
            ]
          },
          "metadata": {
            "tags": []
          },
          "execution_count": 89
        }
      ]
    },
    {
      "cell_type": "code",
      "metadata": {
        "colab": {
          "base_uri": "https://localhost:8080/"
        },
        "id": "n8WB6VIcPZej",
        "outputId": "76a62e71-157d-4020-f5c8-2b603b67d2ce"
      },
      "source": [
        "# frequência acumulada percentual\n",
        "faixa_etaria.count().cumsum()*100/sinasc.IDADEMAE.count()"
      ],
      "execution_count": null,
      "outputs": [
        {
          "output_type": "execute_result",
          "data": {
            "text/plain": [
              "IDADEMAE\n",
              "(0, 9]        0.000000\n",
              "(9, 14]       1.795755\n",
              "(14, 19]     24.965234\n",
              "(19, 24]     50.964387\n",
              "(24, 29]     72.114396\n",
              "(29, 34]     87.846907\n",
              "(34, 39]     97.406131\n",
              "(39, 44]     99.776286\n",
              "(44, 49]     99.987907\n",
              "(49, 54]     99.993954\n",
              "(54, 59]    100.000000\n",
              "Name: IDADEMAE, dtype: float64"
            ]
          },
          "metadata": {
            "tags": []
          },
          "execution_count": 90
        }
      ]
    }
  ]
}